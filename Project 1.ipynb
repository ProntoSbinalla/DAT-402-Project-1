{
<<<<<<< HEAD
 "cells": [],
=======
 "cells": [
  {
   "cell_type": "markdown",
   "metadata": {},
   "source": [
    "# DAT 402 Project 1"
   ]
  },
  {
   "cell_type": "markdown",
   "metadata": {},
   "source": [
    "For this Project, we chose to use the \"Loan Approval Classification Dataset\" from Kaggle. (https://www.kaggle.com/datasets/taweilo/loan-approval-classification-data.) The goal of this project is to correctly classify if a person will be approved for a loan based on certain criteria. We also aim to predict the most important criteria for predicting the outcome of a person's loan application.\n",
    "\n",
    "This raw dataset contains 14 unique features and 45,000 records."
   ]
  },
  {
   "cell_type": "markdown",
   "metadata": {},
   "source": [
    "### Importing Libraries"
   ]
  },
  {
   "cell_type": "code",
   "execution_count": 1,
   "metadata": {},
   "outputs": [],
   "source": [
    "import numpy as np\n",
    "import pandas as pd\n",
    "import matplotlib.pyplot as plt\n",
    "import matplotlib.patches as mpatches\n",
    "import seaborn as sns\n",
    "\n",
    "sns.set()\n",
    "\n",
    "from sklearn.preprocessing import LabelEncoder\n",
    "from sklearn.preprocessing import OneHotEncoder\n",
    "from sklearn.preprocessing import StandardScaler\n",
    "from sklearn.tree import DecisionTreeClassifier\n",
    "from sklearn.metrics import accuracy_score, confusion_matrix, ConfusionMatrixDisplay\n",
    "\n",
    "from sklearn.model_selection import train_test_split, GridSearchCV"
   ]
  },
  {
   "cell_type": "code",
   "execution_count": 2,
   "metadata": {},
   "outputs": [],
   "source": [
    "labelEncoder = LabelEncoder()\n",
    "ohEncoder = OneHotEncoder()"
   ]
  },
  {
   "cell_type": "markdown",
   "metadata": {},
   "source": [
    "### Importing Dataset"
   ]
  },
  {
   "cell_type": "code",
   "execution_count": 3,
   "metadata": {},
   "outputs": [
    {
     "data": {
      "application/vnd.microsoft.datawrangler.viewer.v0+json": {
       "columns": [
        {
         "name": "index",
         "rawType": "int64",
         "type": "integer"
        },
        {
         "name": "person_age",
         "rawType": "float64",
         "type": "float"
        },
        {
         "name": "person_gender",
         "rawType": "object",
         "type": "string"
        },
        {
         "name": "person_education",
         "rawType": "object",
         "type": "string"
        },
        {
         "name": "person_income",
         "rawType": "float64",
         "type": "float"
        },
        {
         "name": "person_emp_exp",
         "rawType": "int64",
         "type": "integer"
        },
        {
         "name": "person_home_ownership",
         "rawType": "object",
         "type": "string"
        },
        {
         "name": "loan_amnt",
         "rawType": "float64",
         "type": "float"
        },
        {
         "name": "loan_intent",
         "rawType": "object",
         "type": "string"
        },
        {
         "name": "loan_int_rate",
         "rawType": "float64",
         "type": "float"
        },
        {
         "name": "loan_percent_income",
         "rawType": "float64",
         "type": "float"
        },
        {
         "name": "cb_person_cred_hist_length",
         "rawType": "float64",
         "type": "float"
        },
        {
         "name": "credit_score",
         "rawType": "int64",
         "type": "integer"
        },
        {
         "name": "previous_loan_defaults_on_file",
         "rawType": "object",
         "type": "string"
        },
        {
         "name": "loan_status",
         "rawType": "int64",
         "type": "integer"
        }
       ],
       "conversionMethod": "pd.DataFrame",
       "ref": "753697c1-a4c7-4a5b-a0a7-fc527f1e0997",
       "rows": [
        [
         "0",
         "22.0",
         "female",
         "Master",
         "71948.0",
         "0",
         "RENT",
         "35000.0",
         "PERSONAL",
         "16.02",
         "0.49",
         "3.0",
         "561",
         "No",
         "1"
        ],
        [
         "1",
         "21.0",
         "female",
         "High School",
         "12282.0",
         "0",
         "OWN",
         "1000.0",
         "EDUCATION",
         "11.14",
         "0.08",
         "2.0",
         "504",
         "Yes",
         "0"
        ],
        [
         "2",
         "25.0",
         "female",
         "High School",
         "12438.0",
         "3",
         "MORTGAGE",
         "5500.0",
         "MEDICAL",
         "12.87",
         "0.44",
         "3.0",
         "635",
         "No",
         "1"
        ],
        [
         "3",
         "23.0",
         "female",
         "Bachelor",
         "79753.0",
         "0",
         "RENT",
         "35000.0",
         "MEDICAL",
         "15.23",
         "0.44",
         "2.0",
         "675",
         "No",
         "1"
        ],
        [
         "4",
         "24.0",
         "male",
         "Master",
         "66135.0",
         "1",
         "RENT",
         "35000.0",
         "MEDICAL",
         "14.27",
         "0.53",
         "4.0",
         "586",
         "No",
         "1"
        ]
       ],
       "shape": {
        "columns": 14,
        "rows": 5
       }
      },
      "text/html": [
       "<div>\n",
       "<style scoped>\n",
       "    .dataframe tbody tr th:only-of-type {\n",
       "        vertical-align: middle;\n",
       "    }\n",
       "\n",
       "    .dataframe tbody tr th {\n",
       "        vertical-align: top;\n",
       "    }\n",
       "\n",
       "    .dataframe thead th {\n",
       "        text-align: right;\n",
       "    }\n",
       "</style>\n",
       "<table border=\"1\" class=\"dataframe\">\n",
       "  <thead>\n",
       "    <tr style=\"text-align: right;\">\n",
       "      <th></th>\n",
       "      <th>person_age</th>\n",
       "      <th>person_gender</th>\n",
       "      <th>person_education</th>\n",
       "      <th>person_income</th>\n",
       "      <th>person_emp_exp</th>\n",
       "      <th>person_home_ownership</th>\n",
       "      <th>loan_amnt</th>\n",
       "      <th>loan_intent</th>\n",
       "      <th>loan_int_rate</th>\n",
       "      <th>loan_percent_income</th>\n",
       "      <th>cb_person_cred_hist_length</th>\n",
       "      <th>credit_score</th>\n",
       "      <th>previous_loan_defaults_on_file</th>\n",
       "      <th>loan_status</th>\n",
       "    </tr>\n",
       "  </thead>\n",
       "  <tbody>\n",
       "    <tr>\n",
       "      <th>0</th>\n",
       "      <td>22.0</td>\n",
       "      <td>female</td>\n",
       "      <td>Master</td>\n",
       "      <td>71948.0</td>\n",
       "      <td>0</td>\n",
       "      <td>RENT</td>\n",
       "      <td>35000.0</td>\n",
       "      <td>PERSONAL</td>\n",
       "      <td>16.02</td>\n",
       "      <td>0.49</td>\n",
       "      <td>3.0</td>\n",
       "      <td>561</td>\n",
       "      <td>No</td>\n",
       "      <td>1</td>\n",
       "    </tr>\n",
       "    <tr>\n",
       "      <th>1</th>\n",
       "      <td>21.0</td>\n",
       "      <td>female</td>\n",
       "      <td>High School</td>\n",
       "      <td>12282.0</td>\n",
       "      <td>0</td>\n",
       "      <td>OWN</td>\n",
       "      <td>1000.0</td>\n",
       "      <td>EDUCATION</td>\n",
       "      <td>11.14</td>\n",
       "      <td>0.08</td>\n",
       "      <td>2.0</td>\n",
       "      <td>504</td>\n",
       "      <td>Yes</td>\n",
       "      <td>0</td>\n",
       "    </tr>\n",
       "    <tr>\n",
       "      <th>2</th>\n",
       "      <td>25.0</td>\n",
       "      <td>female</td>\n",
       "      <td>High School</td>\n",
       "      <td>12438.0</td>\n",
       "      <td>3</td>\n",
       "      <td>MORTGAGE</td>\n",
       "      <td>5500.0</td>\n",
       "      <td>MEDICAL</td>\n",
       "      <td>12.87</td>\n",
       "      <td>0.44</td>\n",
       "      <td>3.0</td>\n",
       "      <td>635</td>\n",
       "      <td>No</td>\n",
       "      <td>1</td>\n",
       "    </tr>\n",
       "    <tr>\n",
       "      <th>3</th>\n",
       "      <td>23.0</td>\n",
       "      <td>female</td>\n",
       "      <td>Bachelor</td>\n",
       "      <td>79753.0</td>\n",
       "      <td>0</td>\n",
       "      <td>RENT</td>\n",
       "      <td>35000.0</td>\n",
       "      <td>MEDICAL</td>\n",
       "      <td>15.23</td>\n",
       "      <td>0.44</td>\n",
       "      <td>2.0</td>\n",
       "      <td>675</td>\n",
       "      <td>No</td>\n",
       "      <td>1</td>\n",
       "    </tr>\n",
       "    <tr>\n",
       "      <th>4</th>\n",
       "      <td>24.0</td>\n",
       "      <td>male</td>\n",
       "      <td>Master</td>\n",
       "      <td>66135.0</td>\n",
       "      <td>1</td>\n",
       "      <td>RENT</td>\n",
       "      <td>35000.0</td>\n",
       "      <td>MEDICAL</td>\n",
       "      <td>14.27</td>\n",
       "      <td>0.53</td>\n",
       "      <td>4.0</td>\n",
       "      <td>586</td>\n",
       "      <td>No</td>\n",
       "      <td>1</td>\n",
       "    </tr>\n",
       "  </tbody>\n",
       "</table>\n",
       "</div>"
      ],
      "text/plain": [
       "   person_age person_gender person_education  person_income  person_emp_exp  \\\n",
       "0        22.0        female           Master        71948.0               0   \n",
       "1        21.0        female      High School        12282.0               0   \n",
       "2        25.0        female      High School        12438.0               3   \n",
       "3        23.0        female         Bachelor        79753.0               0   \n",
       "4        24.0          male           Master        66135.0               1   \n",
       "\n",
       "  person_home_ownership  loan_amnt loan_intent  loan_int_rate  \\\n",
       "0                  RENT    35000.0    PERSONAL          16.02   \n",
       "1                   OWN     1000.0   EDUCATION          11.14   \n",
       "2              MORTGAGE     5500.0     MEDICAL          12.87   \n",
       "3                  RENT    35000.0     MEDICAL          15.23   \n",
       "4                  RENT    35000.0     MEDICAL          14.27   \n",
       "\n",
       "   loan_percent_income  cb_person_cred_hist_length  credit_score  \\\n",
       "0                 0.49                         3.0           561   \n",
       "1                 0.08                         2.0           504   \n",
       "2                 0.44                         3.0           635   \n",
       "3                 0.44                         2.0           675   \n",
       "4                 0.53                         4.0           586   \n",
       "\n",
       "  previous_loan_defaults_on_file  loan_status  \n",
       "0                             No            1  \n",
       "1                            Yes            0  \n",
       "2                             No            1  \n",
       "3                             No            1  \n",
       "4                             No            1  "
      ]
     },
     "execution_count": 3,
     "metadata": {},
     "output_type": "execute_result"
    }
   ],
   "source": [
    "url = \"https://github.com/ProntoSbinalla/DAT-402-Project-1/blob/main/loan_data.csv?raw=true\"\n",
    "\n",
    "data = pd.read_csv(url)\n",
    "\n",
    "data.head()"
   ]
  },
  {
   "cell_type": "code",
   "execution_count": 4,
   "metadata": {},
   "outputs": [
    {
     "data": {
      "text/plain": [
       "(45000, 14)"
      ]
     },
     "execution_count": 4,
     "metadata": {},
     "output_type": "execute_result"
    }
   ],
   "source": [
    "data.shape"
   ]
  },
  {
   "cell_type": "markdown",
   "metadata": {},
   "source": [
    "### Data Cleaning"
   ]
  },
  {
   "cell_type": "code",
   "execution_count": 5,
   "metadata": {},
   "outputs": [
    {
     "name": "stdout",
     "output_type": "stream",
     "text": [
      "<class 'pandas.core.frame.DataFrame'>\n",
      "RangeIndex: 45000 entries, 0 to 44999\n",
      "Data columns (total 14 columns):\n",
      " #   Column                          Non-Null Count  Dtype  \n",
      "---  ------                          --------------  -----  \n",
      " 0   person_age                      45000 non-null  float64\n",
      " 1   person_gender                   45000 non-null  object \n",
      " 2   person_education                45000 non-null  object \n",
      " 3   person_income                   45000 non-null  float64\n",
      " 4   person_emp_exp                  45000 non-null  int64  \n",
      " 5   person_home_ownership           45000 non-null  object \n",
      " 6   loan_amnt                       45000 non-null  float64\n",
      " 7   loan_intent                     45000 non-null  object \n",
      " 8   loan_int_rate                   45000 non-null  float64\n",
      " 9   loan_percent_income             45000 non-null  float64\n",
      " 10  cb_person_cred_hist_length      45000 non-null  float64\n",
      " 11  credit_score                    45000 non-null  int64  \n",
      " 12  previous_loan_defaults_on_file  45000 non-null  object \n",
      " 13  loan_status                     45000 non-null  int64  \n",
      "dtypes: float64(6), int64(3), object(5)\n",
      "memory usage: 4.8+ MB\n"
     ]
    }
   ],
   "source": [
    "data.info()"
   ]
  },
  {
   "cell_type": "code",
   "execution_count": 6,
   "metadata": {},
   "outputs": [
    {
     "data": {
      "text/plain": [
       "person_age                        0\n",
       "person_gender                     0\n",
       "person_education                  0\n",
       "person_income                     0\n",
       "person_emp_exp                    0\n",
       "person_home_ownership             0\n",
       "loan_amnt                         0\n",
       "loan_intent                       0\n",
       "loan_int_rate                     0\n",
       "loan_percent_income               0\n",
       "cb_person_cred_hist_length        0\n",
       "credit_score                      0\n",
       "previous_loan_defaults_on_file    0\n",
       "loan_status                       0\n",
       "dtype: int64"
      ]
     },
     "execution_count": 6,
     "metadata": {},
     "output_type": "execute_result"
    }
   ],
   "source": [
    "data.isna().sum()"
   ]
  },
  {
   "cell_type": "markdown",
   "metadata": {},
   "source": [
    "#### Removing Outliers"
   ]
  },
  {
   "cell_type": "code",
   "execution_count": 7,
   "metadata": {},
   "outputs": [
    {
     "data": {
      "application/vnd.microsoft.datawrangler.viewer.v0+json": {
       "columns": [
        {
         "name": "index",
         "rawType": "object",
         "type": "string"
        },
        {
         "name": "person_age",
         "rawType": "float64",
         "type": "float"
        },
        {
         "name": "person_income",
         "rawType": "float64",
         "type": "float"
        },
        {
         "name": "person_emp_exp",
         "rawType": "float64",
         "type": "float"
        },
        {
         "name": "loan_amnt",
         "rawType": "float64",
         "type": "float"
        },
        {
         "name": "loan_int_rate",
         "rawType": "float64",
         "type": "float"
        },
        {
         "name": "loan_percent_income",
         "rawType": "float64",
         "type": "float"
        },
        {
         "name": "cb_person_cred_hist_length",
         "rawType": "float64",
         "type": "float"
        },
        {
         "name": "credit_score",
         "rawType": "float64",
         "type": "float"
        },
        {
         "name": "loan_status",
         "rawType": "float64",
         "type": "float"
        }
       ],
       "conversionMethod": "pd.DataFrame",
       "ref": "013cc923-c090-4a73-bbbe-c71c68e085f1",
       "rows": [
        [
         "count",
         "45000.0",
         "45000.0",
         "45000.0",
         "45000.0",
         "45000.0",
         "45000.0",
         "45000.0",
         "45000.0",
         "45000.0"
        ],
        [
         "mean",
         "27.76417777777778",
         "80319.05322222222",
         "5.410333333333333",
         "9583.157555555556",
         "11.006605777777779",
         "0.1397248888888889",
         "5.8674888888888885",
         "632.6087555555556",
         "0.2222222222222222"
        ],
        [
         "std",
         "6.045108211348458",
         "80422.49863189524",
         "6.0635320865745586",
         "6314.886690541196",
         "2.978808280225381",
         "0.08721230801404041",
         "3.87970184516185",
         "50.43586500074227",
         "0.41574432904864644"
        ],
        [
         "min",
         "20.0",
         "8000.0",
         "0.0",
         "500.0",
         "5.42",
         "0.0",
         "2.0",
         "390.0",
         "0.0"
        ],
        [
         "25%",
         "24.0",
         "47204.0",
         "1.0",
         "5000.0",
         "8.59",
         "0.07",
         "3.0",
         "601.0",
         "0.0"
        ],
        [
         "50%",
         "26.0",
         "67048.0",
         "4.0",
         "8000.0",
         "11.01",
         "0.12",
         "4.0",
         "640.0",
         "0.0"
        ],
        [
         "75%",
         "30.0",
         "95789.25",
         "8.0",
         "12237.25",
         "12.99",
         "0.19",
         "8.0",
         "670.0",
         "0.0"
        ],
        [
         "max",
         "144.0",
         "7200766.0",
         "125.0",
         "35000.0",
         "20.0",
         "0.66",
         "30.0",
         "850.0",
         "1.0"
        ]
       ],
       "shape": {
        "columns": 9,
        "rows": 8
       }
      },
      "text/html": [
       "<div>\n",
       "<style scoped>\n",
       "    .dataframe tbody tr th:only-of-type {\n",
       "        vertical-align: middle;\n",
       "    }\n",
       "\n",
       "    .dataframe tbody tr th {\n",
       "        vertical-align: top;\n",
       "    }\n",
       "\n",
       "    .dataframe thead th {\n",
       "        text-align: right;\n",
       "    }\n",
       "</style>\n",
       "<table border=\"1\" class=\"dataframe\">\n",
       "  <thead>\n",
       "    <tr style=\"text-align: right;\">\n",
       "      <th></th>\n",
       "      <th>person_age</th>\n",
       "      <th>person_income</th>\n",
       "      <th>person_emp_exp</th>\n",
       "      <th>loan_amnt</th>\n",
       "      <th>loan_int_rate</th>\n",
       "      <th>loan_percent_income</th>\n",
       "      <th>cb_person_cred_hist_length</th>\n",
       "      <th>credit_score</th>\n",
       "      <th>loan_status</th>\n",
       "    </tr>\n",
       "  </thead>\n",
       "  <tbody>\n",
       "    <tr>\n",
       "      <th>count</th>\n",
       "      <td>45000.000000</td>\n",
       "      <td>4.500000e+04</td>\n",
       "      <td>45000.000000</td>\n",
       "      <td>45000.000000</td>\n",
       "      <td>45000.000000</td>\n",
       "      <td>45000.000000</td>\n",
       "      <td>45000.000000</td>\n",
       "      <td>45000.000000</td>\n",
       "      <td>45000.000000</td>\n",
       "    </tr>\n",
       "    <tr>\n",
       "      <th>mean</th>\n",
       "      <td>27.764178</td>\n",
       "      <td>8.031905e+04</td>\n",
       "      <td>5.410333</td>\n",
       "      <td>9583.157556</td>\n",
       "      <td>11.006606</td>\n",
       "      <td>0.139725</td>\n",
       "      <td>5.867489</td>\n",
       "      <td>632.608756</td>\n",
       "      <td>0.222222</td>\n",
       "    </tr>\n",
       "    <tr>\n",
       "      <th>std</th>\n",
       "      <td>6.045108</td>\n",
       "      <td>8.042250e+04</td>\n",
       "      <td>6.063532</td>\n",
       "      <td>6314.886691</td>\n",
       "      <td>2.978808</td>\n",
       "      <td>0.087212</td>\n",
       "      <td>3.879702</td>\n",
       "      <td>50.435865</td>\n",
       "      <td>0.415744</td>\n",
       "    </tr>\n",
       "    <tr>\n",
       "      <th>min</th>\n",
       "      <td>20.000000</td>\n",
       "      <td>8.000000e+03</td>\n",
       "      <td>0.000000</td>\n",
       "      <td>500.000000</td>\n",
       "      <td>5.420000</td>\n",
       "      <td>0.000000</td>\n",
       "      <td>2.000000</td>\n",
       "      <td>390.000000</td>\n",
       "      <td>0.000000</td>\n",
       "    </tr>\n",
       "    <tr>\n",
       "      <th>25%</th>\n",
       "      <td>24.000000</td>\n",
       "      <td>4.720400e+04</td>\n",
       "      <td>1.000000</td>\n",
       "      <td>5000.000000</td>\n",
       "      <td>8.590000</td>\n",
       "      <td>0.070000</td>\n",
       "      <td>3.000000</td>\n",
       "      <td>601.000000</td>\n",
       "      <td>0.000000</td>\n",
       "    </tr>\n",
       "    <tr>\n",
       "      <th>50%</th>\n",
       "      <td>26.000000</td>\n",
       "      <td>6.704800e+04</td>\n",
       "      <td>4.000000</td>\n",
       "      <td>8000.000000</td>\n",
       "      <td>11.010000</td>\n",
       "      <td>0.120000</td>\n",
       "      <td>4.000000</td>\n",
       "      <td>640.000000</td>\n",
       "      <td>0.000000</td>\n",
       "    </tr>\n",
       "    <tr>\n",
       "      <th>75%</th>\n",
       "      <td>30.000000</td>\n",
       "      <td>9.578925e+04</td>\n",
       "      <td>8.000000</td>\n",
       "      <td>12237.250000</td>\n",
       "      <td>12.990000</td>\n",
       "      <td>0.190000</td>\n",
       "      <td>8.000000</td>\n",
       "      <td>670.000000</td>\n",
       "      <td>0.000000</td>\n",
       "    </tr>\n",
       "    <tr>\n",
       "      <th>max</th>\n",
       "      <td>144.000000</td>\n",
       "      <td>7.200766e+06</td>\n",
       "      <td>125.000000</td>\n",
       "      <td>35000.000000</td>\n",
       "      <td>20.000000</td>\n",
       "      <td>0.660000</td>\n",
       "      <td>30.000000</td>\n",
       "      <td>850.000000</td>\n",
       "      <td>1.000000</td>\n",
       "    </tr>\n",
       "  </tbody>\n",
       "</table>\n",
       "</div>"
      ],
      "text/plain": [
       "         person_age  person_income  person_emp_exp     loan_amnt  \\\n",
       "count  45000.000000   4.500000e+04    45000.000000  45000.000000   \n",
       "mean      27.764178   8.031905e+04        5.410333   9583.157556   \n",
       "std        6.045108   8.042250e+04        6.063532   6314.886691   \n",
       "min       20.000000   8.000000e+03        0.000000    500.000000   \n",
       "25%       24.000000   4.720400e+04        1.000000   5000.000000   \n",
       "50%       26.000000   6.704800e+04        4.000000   8000.000000   \n",
       "75%       30.000000   9.578925e+04        8.000000  12237.250000   \n",
       "max      144.000000   7.200766e+06      125.000000  35000.000000   \n",
       "\n",
       "       loan_int_rate  loan_percent_income  cb_person_cred_hist_length  \\\n",
       "count   45000.000000         45000.000000                45000.000000   \n",
       "mean       11.006606             0.139725                    5.867489   \n",
       "std         2.978808             0.087212                    3.879702   \n",
       "min         5.420000             0.000000                    2.000000   \n",
       "25%         8.590000             0.070000                    3.000000   \n",
       "50%        11.010000             0.120000                    4.000000   \n",
       "75%        12.990000             0.190000                    8.000000   \n",
       "max        20.000000             0.660000                   30.000000   \n",
       "\n",
       "       credit_score   loan_status  \n",
       "count  45000.000000  45000.000000  \n",
       "mean     632.608756      0.222222  \n",
       "std       50.435865      0.415744  \n",
       "min      390.000000      0.000000  \n",
       "25%      601.000000      0.000000  \n",
       "50%      640.000000      0.000000  \n",
       "75%      670.000000      0.000000  \n",
       "max      850.000000      1.000000  "
      ]
     },
     "execution_count": 7,
     "metadata": {},
     "output_type": "execute_result"
    }
   ],
   "source": [
    "data.describe()"
   ]
  },
  {
   "cell_type": "code",
   "execution_count": 8,
   "metadata": {},
   "outputs": [
    {
     "data": {
      "application/vnd.microsoft.datawrangler.viewer.v0+json": {
       "columns": [
        {
         "name": "index",
         "rawType": "int64",
         "type": "integer"
        },
        {
         "name": "person_age",
         "rawType": "float64",
         "type": "float"
        },
        {
         "name": "person_gender",
         "rawType": "object",
         "type": "string"
        },
        {
         "name": "person_education",
         "rawType": "object",
         "type": "string"
        },
        {
         "name": "person_income",
         "rawType": "float64",
         "type": "float"
        },
        {
         "name": "person_emp_exp",
         "rawType": "int64",
         "type": "integer"
        },
        {
         "name": "person_home_ownership",
         "rawType": "object",
         "type": "string"
        },
        {
         "name": "loan_amnt",
         "rawType": "float64",
         "type": "float"
        },
        {
         "name": "loan_intent",
         "rawType": "object",
         "type": "string"
        },
        {
         "name": "loan_int_rate",
         "rawType": "float64",
         "type": "float"
        },
        {
         "name": "loan_percent_income",
         "rawType": "float64",
         "type": "float"
        },
        {
         "name": "cb_person_cred_hist_length",
         "rawType": "float64",
         "type": "float"
        },
        {
         "name": "credit_score",
         "rawType": "int64",
         "type": "integer"
        },
        {
         "name": "previous_loan_defaults_on_file",
         "rawType": "object",
         "type": "string"
        },
        {
         "name": "loan_status",
         "rawType": "int64",
         "type": "integer"
        }
       ],
       "conversionMethod": "pd.DataFrame",
       "ref": "e5c8b884-fca2-4ee5-84e2-77633d1e5a7f",
       "rows": [
        [
         "0",
         "22.0",
         "female",
         "Master",
         "71948.0",
         "0",
         "RENT",
         "35000.0",
         "PERSONAL",
         "16.02",
         "0.49",
         "3.0",
         "561",
         "No",
         "1"
        ],
        [
         "1",
         "21.0",
         "female",
         "High School",
         "12282.0",
         "0",
         "OWN",
         "1000.0",
         "EDUCATION",
         "11.14",
         "0.08",
         "2.0",
         "504",
         "Yes",
         "0"
        ],
        [
         "2",
         "25.0",
         "female",
         "High School",
         "12438.0",
         "3",
         "MORTGAGE",
         "5500.0",
         "MEDICAL",
         "12.87",
         "0.44",
         "3.0",
         "635",
         "No",
         "1"
        ],
        [
         "3",
         "23.0",
         "female",
         "Bachelor",
         "79753.0",
         "0",
         "RENT",
         "35000.0",
         "MEDICAL",
         "15.23",
         "0.44",
         "2.0",
         "675",
         "No",
         "1"
        ],
        [
         "4",
         "24.0",
         "male",
         "Master",
         "66135.0",
         "1",
         "RENT",
         "35000.0",
         "MEDICAL",
         "14.27",
         "0.53",
         "4.0",
         "586",
         "No",
         "1"
        ],
        [
         "5",
         "21.0",
         "female",
         "High School",
         "12951.0",
         "0",
         "OWN",
         "2500.0",
         "VENTURE",
         "7.14",
         "0.19",
         "2.0",
         "532",
         "No",
         "1"
        ],
        [
         "6",
         "26.0",
         "female",
         "Bachelor",
         "93471.0",
         "1",
         "RENT",
         "35000.0",
         "EDUCATION",
         "12.42",
         "0.37",
         "3.0",
         "701",
         "No",
         "1"
        ],
        [
         "7",
         "24.0",
         "female",
         "High School",
         "95550.0",
         "5",
         "RENT",
         "35000.0",
         "MEDICAL",
         "11.11",
         "0.37",
         "4.0",
         "585",
         "No",
         "1"
        ],
        [
         "8",
         "24.0",
         "female",
         "Associate",
         "100684.0",
         "3",
         "RENT",
         "35000.0",
         "PERSONAL",
         "8.9",
         "0.35",
         "2.0",
         "544",
         "No",
         "1"
        ],
        [
         "9",
         "21.0",
         "female",
         "High School",
         "12739.0",
         "0",
         "OWN",
         "1600.0",
         "VENTURE",
         "14.74",
         "0.13",
         "3.0",
         "640",
         "No",
         "1"
        ],
        [
         "10",
         "22.0",
         "female",
         "High School",
         "102985.0",
         "0",
         "RENT",
         "35000.0",
         "VENTURE",
         "10.37",
         "0.34",
         "4.0",
         "621",
         "No",
         "1"
        ],
        [
         "11",
         "21.0",
         "female",
         "Associate",
         "13113.0",
         "0",
         "OWN",
         "4500.0",
         "HOMEIMPROVEMENT",
         "8.63",
         "0.34",
         "2.0",
         "651",
         "No",
         "1"
        ],
        [
         "12",
         "23.0",
         "male",
         "Bachelor",
         "114860.0",
         "3",
         "RENT",
         "35000.0",
         "VENTURE",
         "7.9",
         "0.3",
         "2.0",
         "573",
         "No",
         "1"
        ],
        [
         "13",
         "26.0",
         "male",
         "Master",
         "130713.0",
         "0",
         "RENT",
         "35000.0",
         "EDUCATION",
         "18.39",
         "0.27",
         "4.0",
         "708",
         "No",
         "1"
        ],
        [
         "14",
         "23.0",
         "female",
         "Associate",
         "138998.0",
         "0",
         "RENT",
         "35000.0",
         "EDUCATION",
         "7.9",
         "0.25",
         "4.0",
         "583",
         "No",
         "0"
        ],
        [
         "15",
         "23.0",
         "female",
         "Master",
         "600891.0",
         "5",
         "MORTGAGE",
         "30000.0",
         "DEBTCONSOLIDATION",
         "10.65",
         "0.05",
         "3.0",
         "670",
         "Yes",
         "0"
        ],
        [
         "16",
         "23.0",
         "male",
         "Bachelor",
         "144943.0",
         "0",
         "RENT",
         "35000.0",
         "EDUCATION",
         "7.9",
         "0.24",
         "4.0",
         "663",
         "No",
         "0"
        ],
        [
         "17",
         "23.0",
         "female",
         "High School",
         "111369.0",
         "0",
         "RENT",
         "35000.0",
         "MEDICAL",
         "20.0",
         "0.31",
         "4.0",
         "694",
         "No",
         "1"
        ],
        [
         "18",
         "23.0",
         "male",
         "Bachelor",
         "136628.0",
         "0",
         "RENT",
         "35000.0",
         "DEBTCONSOLIDATION",
         "18.25",
         "0.26",
         "4.0",
         "709",
         "No",
         "1"
        ],
        [
         "19",
         "24.0",
         "female",
         "Master",
         "14283.0",
         "1",
         "MORTGAGE",
         "1750.0",
         "EDUCATION",
         "10.99",
         "0.12",
         "2.0",
         "679",
         "No",
         "1"
        ],
        [
         "20",
         "25.0",
         "male",
         "Bachelor",
         "195718.0",
         "0",
         "RENT",
         "35000.0",
         "VENTURE",
         "7.49",
         "0.18",
         "4.0",
         "684",
         "Yes",
         "0"
        ],
        [
         "21",
         "25.0",
         "male",
         "High School",
         "165792.0",
         "4",
         "RENT",
         "34800.0",
         "PERSONAL",
         "16.77",
         "0.21",
         "2.0",
         "662",
         "No",
         "0"
        ],
        [
         "22",
         "22.0",
         "female",
         "Master",
         "79255.0",
         "0",
         "RENT",
         "34000.0",
         "EDUCATION",
         "17.58",
         "0.43",
         "4.0",
         "691",
         "No",
         "1"
        ],
        [
         "23",
         "24.0",
         "female",
         "Bachelor",
         "13866.0",
         "0",
         "OWN",
         "1500.0",
         "PERSONAL",
         "7.29",
         "0.11",
         "3.0",
         "600",
         "Yes",
         "0"
        ],
        [
         "24",
         "22.0",
         "male",
         "Bachelor",
         "97420.0",
         "1",
         "RENT",
         "33950.0",
         "PERSONAL",
         "14.54",
         "0.35",
         "4.0",
         "691",
         "No",
         "1"
        ],
        [
         "25",
         "24.0",
         "female",
         "High School",
         "82443.0",
         "0",
         "RENT",
         "33000.0",
         "HOMEIMPROVEMENT",
         "12.68",
         "0.4",
         "3.0",
         "654",
         "No",
         "1"
        ],
        [
         "26",
         "21.0",
         "female",
         "Associate",
         "14288.0",
         "0",
         "MORTGAGE",
         "4575.0",
         "VENTURE",
         "17.74",
         "0.32",
         "3.0",
         "626",
         "No",
         "1"
        ],
        [
         "27",
         "23.0",
         "male",
         "High School",
         "14293.0",
         "0",
         "OWN",
         "1400.0",
         "PERSONAL",
         "9.32",
         "0.1",
         "3.0",
         "607",
         "No",
         "0"
        ],
        [
         "28",
         "24.0",
         "female",
         "Bachelor",
         "79054.0",
         "1",
         "RENT",
         "32500.0",
         "HOMEIMPROVEMENT",
         "9.99",
         "0.41",
         "3.0",
         "700",
         "No",
         "1"
        ],
        [
         "29",
         "21.0",
         "female",
         "Bachelor",
         "14988.0",
         "0",
         "OTHER",
         "4000.0",
         "EDUCATION",
         "12.84",
         "0.27",
         "2.0",
         "553",
         "No",
         "1"
        ],
        [
         "30",
         "21.0",
         "male",
         "High School",
         "14858.0",
         "0",
         "OWN",
         "2000.0",
         "MEDICAL",
         "11.12",
         "0.13",
         "3.0",
         "589",
         "No",
         "1"
        ],
        [
         "31",
         "25.0",
         "male",
         "Bachelor",
         "144855.0",
         "1",
         "RENT",
         "32000.0",
         "VENTURE",
         "6.62",
         "0.22",
         "2.0",
         "586",
         "Yes",
         "0"
        ],
        [
         "32",
         "26.0",
         "male",
         "Bachelor",
         "114645.0",
         "2",
         "RENT",
         "31050.0",
         "HOMEIMPROVEMENT",
         "14.17",
         "0.27",
         "3.0",
         "681",
         "No",
         "1"
        ],
        [
         "33",
         "25.0",
         "female",
         "High School",
         "368115.0",
         "3",
         "RENT",
         "24250.0",
         "DEBTCONSOLIDATION",
         "13.85",
         "0.07",
         "3.0",
         "567",
         "Yes",
         "0"
        ],
        [
         "34",
         "26.0",
         "female",
         "Associate",
         "361076.0",
         "1",
         "MORTGAGE",
         "7800.0",
         "MEDICAL",
         "13.49",
         "0.02",
         "4.0",
         "669",
         "No",
         "0"
        ],
        [
         "35",
         "21.0",
         "male",
         "Associate",
         "15150.0",
         "0",
         "OWN",
         "2500.0",
         "EDUCATION",
         "7.51",
         "0.17",
         "4.0",
         "600",
         "No",
         "1"
        ],
        [
         "36",
         "22.0",
         "female",
         "Bachelor",
         "58868.0",
         "0",
         "RENT",
         "30000.0",
         "EDUCATION",
         "18.39",
         "0.51",
         "2.0",
         "606",
         "No",
         "1"
        ],
        [
         "37",
         "24.0",
         "male",
         "High School",
         "78026.0",
         "3",
         "RENT",
         "30000.0",
         "DEBTCONSOLIDATION",
         "14.54",
         "0.38",
         "3.0",
         "582",
         "No",
         "1"
        ],
        [
         "38",
         "25.0",
         "male",
         "Bachelor",
         "90785.0",
         "4",
         "RENT",
         "30000.0",
         "HOMEIMPROVEMENT",
         "16.89",
         "0.33",
         "4.0",
         "649",
         "No",
         "1"
        ],
        [
         "39",
         "23.0",
         "female",
         "High School",
         "86811.0",
         "0",
         "RENT",
         "30000.0",
         "DEBTCONSOLIDATION",
         "11.01",
         "0.35",
         "4.0",
         "602",
         "No",
         "1"
        ],
        [
         "40",
         "26.0",
         "male",
         "Bachelor",
         "75503.0",
         "5",
         "RENT",
         "30000.0",
         "MEDICAL",
         "17.99",
         "0.4",
         "2.0",
         "616",
         "No",
         "1"
        ],
        [
         "41",
         "24.0",
         "female",
         "High School",
         "15082.0",
         "0",
         "OWN",
         "2500.0",
         "VENTURE",
         "12.69",
         "0.17",
         "3.0",
         "631",
         "No",
         "1"
        ],
        [
         "42",
         "26.0",
         "male",
         "Bachelor",
         "361293.0",
         "5",
         "MORTGAGE",
         "20000.0",
         "VENTURE",
         "7.88",
         "0.06",
         "4.0",
         "684",
         "Yes",
         "0"
        ],
        [
         "43",
         "23.0",
         "male",
         "High School",
         "361547.0",
         "0",
         "OWN",
         "24250.0",
         "EDUCATION",
         "19.41",
         "0.07",
         "2.0",
         "637",
         "Yes",
         "0"
        ],
        [
         "44",
         "26.0",
         "male",
         "Master",
         "360680.0",
         "5",
         "OWN",
         "10000.0",
         "HOMEIMPROVEMENT",
         "10.38",
         "0.03",
         "4.0",
         "649",
         "No",
         "0"
        ],
        [
         "45",
         "26.0",
         "male",
         "Bachelor",
         "360977.0",
         "5",
         "MORTGAGE",
         "25000.0",
         "EDUCATION",
         "15.33",
         "0.07",
         "3.0",
         "695",
         "Yes",
         "0"
        ],
        [
         "46",
         "25.0",
         "female",
         "Bachelor",
         "361244.0",
         "2",
         "MORTGAGE",
         "18000.0",
         "HOMEIMPROVEMENT",
         "16.45",
         "0.05",
         "3.0",
         "620",
         "No",
         "0"
        ],
        [
         "47",
         "26.0",
         "male",
         "Bachelor",
         "98230.0",
         "2",
         "RENT",
         "30000.0",
         "PERSONAL",
         "7.49",
         "0.31",
         "3.0",
         "622",
         "No",
         "1"
        ],
        [
         "48",
         "22.0",
         "female",
         "High School",
         "80838.0",
         "0",
         "RENT",
         "30000.0",
         "MEDICAL",
         "12.69",
         "0.37",
         "3.0",
         "645",
         "No",
         "1"
        ],
        [
         "49",
         "26.0",
         "male",
         "Master",
         "107957.0",
         "2",
         "RENT",
         "30000.0",
         "DEBTCONSOLIDATION",
         "6.62",
         "0.28",
         "3.0",
         "654",
         "No",
         "1"
        ]
       ],
       "shape": {
        "columns": 14,
        "rows": 44951
       }
      },
      "text/html": [
       "<div>\n",
       "<style scoped>\n",
       "    .dataframe tbody tr th:only-of-type {\n",
       "        vertical-align: middle;\n",
       "    }\n",
       "\n",
       "    .dataframe tbody tr th {\n",
       "        vertical-align: top;\n",
       "    }\n",
       "\n",
       "    .dataframe thead th {\n",
       "        text-align: right;\n",
       "    }\n",
       "</style>\n",
       "<table border=\"1\" class=\"dataframe\">\n",
       "  <thead>\n",
       "    <tr style=\"text-align: right;\">\n",
       "      <th></th>\n",
       "      <th>person_age</th>\n",
       "      <th>person_gender</th>\n",
       "      <th>person_education</th>\n",
       "      <th>person_income</th>\n",
       "      <th>person_emp_exp</th>\n",
       "      <th>person_home_ownership</th>\n",
       "      <th>loan_amnt</th>\n",
       "      <th>loan_intent</th>\n",
       "      <th>loan_int_rate</th>\n",
       "      <th>loan_percent_income</th>\n",
       "      <th>cb_person_cred_hist_length</th>\n",
       "      <th>credit_score</th>\n",
       "      <th>previous_loan_defaults_on_file</th>\n",
       "      <th>loan_status</th>\n",
       "    </tr>\n",
       "  </thead>\n",
       "  <tbody>\n",
       "    <tr>\n",
       "      <th>0</th>\n",
       "      <td>22.0</td>\n",
       "      <td>female</td>\n",
       "      <td>Master</td>\n",
       "      <td>71948.0</td>\n",
       "      <td>0</td>\n",
       "      <td>RENT</td>\n",
       "      <td>35000.0</td>\n",
       "      <td>PERSONAL</td>\n",
       "      <td>16.02</td>\n",
       "      <td>0.49</td>\n",
       "      <td>3.0</td>\n",
       "      <td>561</td>\n",
       "      <td>No</td>\n",
       "      <td>1</td>\n",
       "    </tr>\n",
       "    <tr>\n",
       "      <th>1</th>\n",
       "      <td>21.0</td>\n",
       "      <td>female</td>\n",
       "      <td>High School</td>\n",
       "      <td>12282.0</td>\n",
       "      <td>0</td>\n",
       "      <td>OWN</td>\n",
       "      <td>1000.0</td>\n",
       "      <td>EDUCATION</td>\n",
       "      <td>11.14</td>\n",
       "      <td>0.08</td>\n",
       "      <td>2.0</td>\n",
       "      <td>504</td>\n",
       "      <td>Yes</td>\n",
       "      <td>0</td>\n",
       "    </tr>\n",
       "    <tr>\n",
       "      <th>2</th>\n",
       "      <td>25.0</td>\n",
       "      <td>female</td>\n",
       "      <td>High School</td>\n",
       "      <td>12438.0</td>\n",
       "      <td>3</td>\n",
       "      <td>MORTGAGE</td>\n",
       "      <td>5500.0</td>\n",
       "      <td>MEDICAL</td>\n",
       "      <td>12.87</td>\n",
       "      <td>0.44</td>\n",
       "      <td>3.0</td>\n",
       "      <td>635</td>\n",
       "      <td>No</td>\n",
       "      <td>1</td>\n",
       "    </tr>\n",
       "    <tr>\n",
       "      <th>3</th>\n",
       "      <td>23.0</td>\n",
       "      <td>female</td>\n",
       "      <td>Bachelor</td>\n",
       "      <td>79753.0</td>\n",
       "      <td>0</td>\n",
       "      <td>RENT</td>\n",
       "      <td>35000.0</td>\n",
       "      <td>MEDICAL</td>\n",
       "      <td>15.23</td>\n",
       "      <td>0.44</td>\n",
       "      <td>2.0</td>\n",
       "      <td>675</td>\n",
       "      <td>No</td>\n",
       "      <td>1</td>\n",
       "    </tr>\n",
       "    <tr>\n",
       "      <th>4</th>\n",
       "      <td>24.0</td>\n",
       "      <td>male</td>\n",
       "      <td>Master</td>\n",
       "      <td>66135.0</td>\n",
       "      <td>1</td>\n",
       "      <td>RENT</td>\n",
       "      <td>35000.0</td>\n",
       "      <td>MEDICAL</td>\n",
       "      <td>14.27</td>\n",
       "      <td>0.53</td>\n",
       "      <td>4.0</td>\n",
       "      <td>586</td>\n",
       "      <td>No</td>\n",
       "      <td>1</td>\n",
       "    </tr>\n",
       "    <tr>\n",
       "      <th>...</th>\n",
       "      <td>...</td>\n",
       "      <td>...</td>\n",
       "      <td>...</td>\n",
       "      <td>...</td>\n",
       "      <td>...</td>\n",
       "      <td>...</td>\n",
       "      <td>...</td>\n",
       "      <td>...</td>\n",
       "      <td>...</td>\n",
       "      <td>...</td>\n",
       "      <td>...</td>\n",
       "      <td>...</td>\n",
       "      <td>...</td>\n",
       "      <td>...</td>\n",
       "    </tr>\n",
       "    <tr>\n",
       "      <th>44946</th>\n",
       "      <td>27.0</td>\n",
       "      <td>male</td>\n",
       "      <td>Associate</td>\n",
       "      <td>47971.0</td>\n",
       "      <td>6</td>\n",
       "      <td>RENT</td>\n",
       "      <td>15000.0</td>\n",
       "      <td>MEDICAL</td>\n",
       "      <td>15.66</td>\n",
       "      <td>0.31</td>\n",
       "      <td>3.0</td>\n",
       "      <td>645</td>\n",
       "      <td>No</td>\n",
       "      <td>1</td>\n",
       "    </tr>\n",
       "    <tr>\n",
       "      <th>44947</th>\n",
       "      <td>37.0</td>\n",
       "      <td>female</td>\n",
       "      <td>Associate</td>\n",
       "      <td>65800.0</td>\n",
       "      <td>17</td>\n",
       "      <td>RENT</td>\n",
       "      <td>9000.0</td>\n",
       "      <td>HOMEIMPROVEMENT</td>\n",
       "      <td>14.07</td>\n",
       "      <td>0.14</td>\n",
       "      <td>11.0</td>\n",
       "      <td>621</td>\n",
       "      <td>No</td>\n",
       "      <td>1</td>\n",
       "    </tr>\n",
       "    <tr>\n",
       "      <th>44948</th>\n",
       "      <td>33.0</td>\n",
       "      <td>male</td>\n",
       "      <td>Associate</td>\n",
       "      <td>56942.0</td>\n",
       "      <td>7</td>\n",
       "      <td>RENT</td>\n",
       "      <td>2771.0</td>\n",
       "      <td>DEBTCONSOLIDATION</td>\n",
       "      <td>10.02</td>\n",
       "      <td>0.05</td>\n",
       "      <td>10.0</td>\n",
       "      <td>668</td>\n",
       "      <td>No</td>\n",
       "      <td>1</td>\n",
       "    </tr>\n",
       "    <tr>\n",
       "      <th>44949</th>\n",
       "      <td>29.0</td>\n",
       "      <td>male</td>\n",
       "      <td>Bachelor</td>\n",
       "      <td>33164.0</td>\n",
       "      <td>4</td>\n",
       "      <td>RENT</td>\n",
       "      <td>12000.0</td>\n",
       "      <td>EDUCATION</td>\n",
       "      <td>13.23</td>\n",
       "      <td>0.36</td>\n",
       "      <td>6.0</td>\n",
       "      <td>604</td>\n",
       "      <td>No</td>\n",
       "      <td>1</td>\n",
       "    </tr>\n",
       "    <tr>\n",
       "      <th>44950</th>\n",
       "      <td>24.0</td>\n",
       "      <td>male</td>\n",
       "      <td>High School</td>\n",
       "      <td>51609.0</td>\n",
       "      <td>1</td>\n",
       "      <td>RENT</td>\n",
       "      <td>6665.0</td>\n",
       "      <td>DEBTCONSOLIDATION</td>\n",
       "      <td>17.05</td>\n",
       "      <td>0.13</td>\n",
       "      <td>3.0</td>\n",
       "      <td>628</td>\n",
       "      <td>No</td>\n",
       "      <td>1</td>\n",
       "    </tr>\n",
       "  </tbody>\n",
       "</table>\n",
       "<p>44951 rows × 14 columns</p>\n",
       "</div>"
      ],
      "text/plain": [
       "       person_age person_gender person_education  person_income  \\\n",
       "0            22.0        female           Master        71948.0   \n",
       "1            21.0        female      High School        12282.0   \n",
       "2            25.0        female      High School        12438.0   \n",
       "3            23.0        female         Bachelor        79753.0   \n",
       "4            24.0          male           Master        66135.0   \n",
       "...           ...           ...              ...            ...   \n",
       "44946        27.0          male        Associate        47971.0   \n",
       "44947        37.0        female        Associate        65800.0   \n",
       "44948        33.0          male        Associate        56942.0   \n",
       "44949        29.0          male         Bachelor        33164.0   \n",
       "44950        24.0          male      High School        51609.0   \n",
       "\n",
       "       person_emp_exp person_home_ownership  loan_amnt        loan_intent  \\\n",
       "0                   0                  RENT    35000.0           PERSONAL   \n",
       "1                   0                   OWN     1000.0          EDUCATION   \n",
       "2                   3              MORTGAGE     5500.0            MEDICAL   \n",
       "3                   0                  RENT    35000.0            MEDICAL   \n",
       "4                   1                  RENT    35000.0            MEDICAL   \n",
       "...               ...                   ...        ...                ...   \n",
       "44946               6                  RENT    15000.0            MEDICAL   \n",
       "44947              17                  RENT     9000.0    HOMEIMPROVEMENT   \n",
       "44948               7                  RENT     2771.0  DEBTCONSOLIDATION   \n",
       "44949               4                  RENT    12000.0          EDUCATION   \n",
       "44950               1                  RENT     6665.0  DEBTCONSOLIDATION   \n",
       "\n",
       "       loan_int_rate  loan_percent_income  cb_person_cred_hist_length  \\\n",
       "0              16.02                 0.49                         3.0   \n",
       "1              11.14                 0.08                         2.0   \n",
       "2              12.87                 0.44                         3.0   \n",
       "3              15.23                 0.44                         2.0   \n",
       "4              14.27                 0.53                         4.0   \n",
       "...              ...                  ...                         ...   \n",
       "44946          15.66                 0.31                         3.0   \n",
       "44947          14.07                 0.14                        11.0   \n",
       "44948          10.02                 0.05                        10.0   \n",
       "44949          13.23                 0.36                         6.0   \n",
       "44950          17.05                 0.13                         3.0   \n",
       "\n",
       "       credit_score previous_loan_defaults_on_file  loan_status  \n",
       "0               561                             No            1  \n",
       "1               504                            Yes            0  \n",
       "2               635                             No            1  \n",
       "3               675                             No            1  \n",
       "4               586                             No            1  \n",
       "...             ...                            ...          ...  \n",
       "44946           645                             No            1  \n",
       "44947           621                             No            1  \n",
       "44948           668                             No            1  \n",
       "44949           604                             No            1  \n",
       "44950           628                             No            1  \n",
       "\n",
       "[44951 rows x 14 columns]"
      ]
     },
     "execution_count": 8,
     "metadata": {},
     "output_type": "execute_result"
    }
   ],
   "source": [
    "cleaned_df = data.copy()\n",
    "\n",
    "cleaned_df = cleaned_df[(cleaned_df['person_age'] <= 100)]\n",
    "cleaned_df = cleaned_df[(cleaned_df['person_emp_exp'] <= 45)]\n",
    "cleaned_df = cleaned_df[(cleaned_df['cb_person_cred_hist_length'] < cleaned_df['person_age'])]\n",
    "cleaned_df = cleaned_df[(cleaned_df['person_gender'] == 'male') | (cleaned_df['person_gender'] == 'female')]\n",
    "cleaned_df = cleaned_df[(cleaned_df['loan_percent_income'] > 0)]\n",
    "\n",
    "cleaned_df.reset_index(drop = True)"
   ]
  },
  {
   "cell_type": "code",
   "execution_count": 9,
   "metadata": {},
   "outputs": [
    {
     "data": {
      "application/vnd.microsoft.datawrangler.viewer.v0+json": {
       "columns": [
        {
         "name": "index",
         "rawType": "object",
         "type": "string"
        },
        {
         "name": "person_age",
         "rawType": "float64",
         "type": "float"
        },
        {
         "name": "person_income",
         "rawType": "float64",
         "type": "float"
        },
        {
         "name": "person_emp_exp",
         "rawType": "float64",
         "type": "float"
        },
        {
         "name": "loan_amnt",
         "rawType": "float64",
         "type": "float"
        },
        {
         "name": "loan_int_rate",
         "rawType": "float64",
         "type": "float"
        },
        {
         "name": "loan_percent_income",
         "rawType": "float64",
         "type": "float"
        },
        {
         "name": "cb_person_cred_hist_length",
         "rawType": "float64",
         "type": "float"
        },
        {
         "name": "credit_score",
         "rawType": "float64",
         "type": "float"
        },
        {
         "name": "loan_status",
         "rawType": "float64",
         "type": "float"
        }
       ],
       "conversionMethod": "pd.DataFrame",
       "ref": "f1c86986-a5ea-4a52-9327-ccf73a4c8d45",
       "rows": [
        [
         "count",
         "44951.0",
         "44951.0",
         "44951.0",
         "44951.0",
         "44951.0",
         "44951.0",
         "44951.0",
         "44951.0",
         "44951.0"
        ],
        [
         "mean",
         "27.723654646170274",
         "79396.69702565015",
         "5.369624702453783",
         "9587.10618228738",
         "11.006832995928901",
         "0.1398173566772708",
         "5.8560654935374075",
         "632.5572067362239",
         "0.22239772196391627"
        ],
        [
         "std",
         "5.828595913503378",
         "57437.400624698435",
         "5.843387420163899",
         "6315.393898299836",
         "2.9792455299274834",
         "0.08717629466468681",
         "3.8577911681803143",
         "50.37060486138559",
         "0.4158615425209085"
        ],
        [
         "min",
         "20.0",
         "8000.0",
         "0.0",
         "500.0",
         "5.42",
         "0.01",
         "2.0",
         "390.0",
         "0.0"
        ],
        [
         "25%",
         "24.0",
         "47170.5",
         "1.0",
         "5000.0",
         "8.59",
         "0.07",
         "3.0",
         "601.0",
         "0.0"
        ],
        [
         "50%",
         "26.0",
         "67041.0",
         "4.0",
         "8000.0",
         "11.01",
         "0.12",
         "4.0",
         "640.0",
         "0.0"
        ],
        [
         "75%",
         "30.0",
         "95696.5",
         "8.0",
         "12250.0",
         "13.0",
         "0.19",
         "8.0",
         "670.0",
         "0.0"
        ],
        [
         "max",
         "70.0",
         "2139143.0",
         "45.0",
         "35000.0",
         "20.0",
         "0.66",
         "30.0",
         "768.0",
         "1.0"
        ]
       ],
       "shape": {
        "columns": 9,
        "rows": 8
       }
      },
      "text/html": [
       "<div>\n",
       "<style scoped>\n",
       "    .dataframe tbody tr th:only-of-type {\n",
       "        vertical-align: middle;\n",
       "    }\n",
       "\n",
       "    .dataframe tbody tr th {\n",
       "        vertical-align: top;\n",
       "    }\n",
       "\n",
       "    .dataframe thead th {\n",
       "        text-align: right;\n",
       "    }\n",
       "</style>\n",
       "<table border=\"1\" class=\"dataframe\">\n",
       "  <thead>\n",
       "    <tr style=\"text-align: right;\">\n",
       "      <th></th>\n",
       "      <th>person_age</th>\n",
       "      <th>person_income</th>\n",
       "      <th>person_emp_exp</th>\n",
       "      <th>loan_amnt</th>\n",
       "      <th>loan_int_rate</th>\n",
       "      <th>loan_percent_income</th>\n",
       "      <th>cb_person_cred_hist_length</th>\n",
       "      <th>credit_score</th>\n",
       "      <th>loan_status</th>\n",
       "    </tr>\n",
       "  </thead>\n",
       "  <tbody>\n",
       "    <tr>\n",
       "      <th>count</th>\n",
       "      <td>44951.000000</td>\n",
       "      <td>4.495100e+04</td>\n",
       "      <td>44951.000000</td>\n",
       "      <td>44951.000000</td>\n",
       "      <td>44951.000000</td>\n",
       "      <td>44951.000000</td>\n",
       "      <td>44951.000000</td>\n",
       "      <td>44951.000000</td>\n",
       "      <td>44951.000000</td>\n",
       "    </tr>\n",
       "    <tr>\n",
       "      <th>mean</th>\n",
       "      <td>27.723655</td>\n",
       "      <td>7.939670e+04</td>\n",
       "      <td>5.369625</td>\n",
       "      <td>9587.106182</td>\n",
       "      <td>11.006833</td>\n",
       "      <td>0.139817</td>\n",
       "      <td>5.856065</td>\n",
       "      <td>632.557207</td>\n",
       "      <td>0.222398</td>\n",
       "    </tr>\n",
       "    <tr>\n",
       "      <th>std</th>\n",
       "      <td>5.828596</td>\n",
       "      <td>5.743740e+04</td>\n",
       "      <td>5.843387</td>\n",
       "      <td>6315.393898</td>\n",
       "      <td>2.979246</td>\n",
       "      <td>0.087176</td>\n",
       "      <td>3.857791</td>\n",
       "      <td>50.370605</td>\n",
       "      <td>0.415862</td>\n",
       "    </tr>\n",
       "    <tr>\n",
       "      <th>min</th>\n",
       "      <td>20.000000</td>\n",
       "      <td>8.000000e+03</td>\n",
       "      <td>0.000000</td>\n",
       "      <td>500.000000</td>\n",
       "      <td>5.420000</td>\n",
       "      <td>0.010000</td>\n",
       "      <td>2.000000</td>\n",
       "      <td>390.000000</td>\n",
       "      <td>0.000000</td>\n",
       "    </tr>\n",
       "    <tr>\n",
       "      <th>25%</th>\n",
       "      <td>24.000000</td>\n",
       "      <td>4.717050e+04</td>\n",
       "      <td>1.000000</td>\n",
       "      <td>5000.000000</td>\n",
       "      <td>8.590000</td>\n",
       "      <td>0.070000</td>\n",
       "      <td>3.000000</td>\n",
       "      <td>601.000000</td>\n",
       "      <td>0.000000</td>\n",
       "    </tr>\n",
       "    <tr>\n",
       "      <th>50%</th>\n",
       "      <td>26.000000</td>\n",
       "      <td>6.704100e+04</td>\n",
       "      <td>4.000000</td>\n",
       "      <td>8000.000000</td>\n",
       "      <td>11.010000</td>\n",
       "      <td>0.120000</td>\n",
       "      <td>4.000000</td>\n",
       "      <td>640.000000</td>\n",
       "      <td>0.000000</td>\n",
       "    </tr>\n",
       "    <tr>\n",
       "      <th>75%</th>\n",
       "      <td>30.000000</td>\n",
       "      <td>9.569650e+04</td>\n",
       "      <td>8.000000</td>\n",
       "      <td>12250.000000</td>\n",
       "      <td>13.000000</td>\n",
       "      <td>0.190000</td>\n",
       "      <td>8.000000</td>\n",
       "      <td>670.000000</td>\n",
       "      <td>0.000000</td>\n",
       "    </tr>\n",
       "    <tr>\n",
       "      <th>max</th>\n",
       "      <td>70.000000</td>\n",
       "      <td>2.139143e+06</td>\n",
       "      <td>45.000000</td>\n",
       "      <td>35000.000000</td>\n",
       "      <td>20.000000</td>\n",
       "      <td>0.660000</td>\n",
       "      <td>30.000000</td>\n",
       "      <td>768.000000</td>\n",
       "      <td>1.000000</td>\n",
       "    </tr>\n",
       "  </tbody>\n",
       "</table>\n",
       "</div>"
      ],
      "text/plain": [
       "         person_age  person_income  person_emp_exp     loan_amnt  \\\n",
       "count  44951.000000   4.495100e+04    44951.000000  44951.000000   \n",
       "mean      27.723655   7.939670e+04        5.369625   9587.106182   \n",
       "std        5.828596   5.743740e+04        5.843387   6315.393898   \n",
       "min       20.000000   8.000000e+03        0.000000    500.000000   \n",
       "25%       24.000000   4.717050e+04        1.000000   5000.000000   \n",
       "50%       26.000000   6.704100e+04        4.000000   8000.000000   \n",
       "75%       30.000000   9.569650e+04        8.000000  12250.000000   \n",
       "max       70.000000   2.139143e+06       45.000000  35000.000000   \n",
       "\n",
       "       loan_int_rate  loan_percent_income  cb_person_cred_hist_length  \\\n",
       "count   44951.000000         44951.000000                44951.000000   \n",
       "mean       11.006833             0.139817                    5.856065   \n",
       "std         2.979246             0.087176                    3.857791   \n",
       "min         5.420000             0.010000                    2.000000   \n",
       "25%         8.590000             0.070000                    3.000000   \n",
       "50%        11.010000             0.120000                    4.000000   \n",
       "75%        13.000000             0.190000                    8.000000   \n",
       "max        20.000000             0.660000                   30.000000   \n",
       "\n",
       "       credit_score   loan_status  \n",
       "count  44951.000000  44951.000000  \n",
       "mean     632.557207      0.222398  \n",
       "std       50.370605      0.415862  \n",
       "min      390.000000      0.000000  \n",
       "25%      601.000000      0.000000  \n",
       "50%      640.000000      0.000000  \n",
       "75%      670.000000      0.000000  \n",
       "max      768.000000      1.000000  "
      ]
     },
     "execution_count": 9,
     "metadata": {},
     "output_type": "execute_result"
    }
   ],
   "source": [
    "cleaned_df.describe()"
   ]
  },
  {
   "cell_type": "code",
   "execution_count": 10,
   "metadata": {},
   "outputs": [
    {
     "data": {
      "text/plain": [
       "(44951, 14)"
      ]
     },
     "execution_count": 10,
     "metadata": {},
     "output_type": "execute_result"
    }
   ],
   "source": [
    "cleaned_df.shape"
   ]
  },
  {
   "cell_type": "markdown",
   "metadata": {},
   "source": [
    "#### Graphing Data"
   ]
  },
  {
   "cell_type": "code",
   "execution_count": 11,
   "metadata": {},
   "outputs": [
    {
     "data": {
      "image/png": "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",
      "text/plain": [
       "<Figure size 640x480 with 1 Axes>"
      ]
     },
     "metadata": {},
     "output_type": "display_data"
    }
   ],
   "source": [
    "total = cleaned_df.groupby('person_education')['loan_status'].count().reset_index()\n",
    "\n",
    "bar1 = sns.barplot(x=\"person_education\",  y=\"loan_status\", data=total, color='orange')\n",
    "\n",
    "loan = cleaned_df[cleaned_df.loan_status == 1]\n",
    "\n",
    "bar2 = sns.barplot(x=\"person_education\", y=\"loan_status\", data=loan, estimator=sum, color='blue')\n",
    "\n",
    "top_bar = mpatches.Patch(color='orange', label='Loan Agreed = No')\n",
    "bottom_bar = mpatches.Patch(color='blue', label='Loan Agreed = Yes')\n",
    "plt.legend(handles=[top_bar, bottom_bar])\n",
    "\n",
    "# show the graph\n",
    "plt.show()\n"
   ]
  },
  {
   "cell_type": "code",
   "execution_count": 12,
   "metadata": {},
   "outputs": [
    {
     "data": {
      "image/png": "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",
      "text/plain": [
       "<Figure size 1000x600 with 1 Axes>"
      ]
     },
     "metadata": {},
     "output_type": "display_data"
    }
   ],
   "source": [
    "plt.figure(figsize=(10, 6))\n",
    "sns.histplot(cleaned_df['loan_amnt'], kde=True, color='blue')\n",
    "plt.title('Distribution of Loan Amount')\n",
    "plt.xlabel('Loan Amount')\n",
    "plt.ylabel('Frequency')\n",
    "plt.show()"
   ]
  },
  {
   "cell_type": "code",
   "execution_count": 13,
   "metadata": {},
   "outputs": [
    {
     "name": "stderr",
     "output_type": "stream",
     "text": [
      "C:\\Users\\mesha\\AppData\\Local\\Temp\\ipykernel_42328\\784367557.py:2: FutureWarning: \n",
      "\n",
      "Passing `palette` without assigning `hue` is deprecated and will be removed in v0.14.0. Assign the `x` variable to `hue` and set `legend=False` for the same effect.\n",
      "\n",
      "  sns.boxplot(x='person_education', y='loan_amnt', data=cleaned_df, palette='viridis')\n"
     ]
    },
    {
     "data": {
      "image/png": "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",
      "text/plain": [
       "<Figure size 1000x600 with 1 Axes>"
      ]
     },
     "metadata": {},
     "output_type": "display_data"
    }
   ],
   "source": [
    "plt.figure(figsize=(10, 6))\n",
    "sns.boxplot(x='person_education', y='loan_amnt', data=cleaned_df, palette='viridis')\n",
    "plt.title('Loan Amount by Education Level')\n",
    "plt.xlabel('Education Level')\n",
    "plt.ylabel('Loan Amount')\n",
    "plt.show()"
   ]
  },
  {
   "cell_type": "code",
   "execution_count": 14,
   "metadata": {},
   "outputs": [
    {
     "data": {
      "image/png": "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",
      "text/plain": [
       "<Figure size 1200x800 with 2 Axes>"
      ]
     },
     "metadata": {},
     "output_type": "display_data"
    }
   ],
   "source": [
    "# Encode categorical columns\n",
    "labelEncoder = LabelEncoder()\n",
    "for col in cleaned_df.columns:\n",
    "    if cleaned_df[col].dtype == 'object':\n",
    "        cleaned_df[col] = labelEncoder.fit_transform(cleaned_df[col])\n",
    "\n",
    "# Compute correlation matrix for numeric columns only\n",
    "corr_matrix = cleaned_df.corr()\n",
    "\n",
    "# Plot the heatmap\n",
    "plt.figure(figsize=(12, 8))\n",
    "sns.heatmap(corr_matrix, annot=True, cmap='coolwarm', fmt='.2f')\n",
    "plt.title('Correlation Heatmap')\n",
    "plt.show()"
   ]
  },
  {
   "cell_type": "code",
   "execution_count": 15,
   "metadata": {},
   "outputs": [
    {
     "data": {
      "image/png": "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",
      "text/plain": [
       "<Figure size 800x800 with 1 Axes>"
      ]
     },
     "metadata": {},
     "output_type": "display_data"
    }
   ],
   "source": [
    "plt.figure(figsize=(8, 8))\n",
    "data['person_home_ownership'].value_counts().plot.pie(autopct='%1.1f%%', colors=sns.color_palette('pastel'))\n",
    "plt.title('Home Ownership Distribution')\n",
    "plt.ylabel('')\n",
    "plt.show()"
   ]
  },
  {
   "cell_type": "code",
   "execution_count": 16,
   "metadata": {},
   "outputs": [
    {
     "name": "stderr",
     "output_type": "stream",
     "text": [
      "C:\\Users\\mesha\\AppData\\Local\\Temp\\ipykernel_42328\\2600625319.py:2: FutureWarning: \n",
      "\n",
      "Passing `palette` without assigning `hue` is deprecated and will be removed in v0.14.0. Assign the `x` variable to `hue` and set `legend=False` for the same effect.\n",
      "\n",
      "  sns.violinplot(x='person_home_ownership', y='loan_amnt', data=cleaned_df, palette='Set3')\n"
     ]
    },
    {
     "data": {
      "image/png": "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",
      "text/plain": [
       "<Figure size 1000x600 with 1 Axes>"
      ]
     },
     "metadata": {},
     "output_type": "display_data"
    }
   ],
   "source": [
    "plt.figure(figsize=(10, 6))\n",
    "sns.violinplot(x='person_home_ownership', y='loan_amnt', data=cleaned_df, palette='Set3')\n",
    "plt.title('Loan Amount by Home Ownership')\n",
    "plt.xlabel('Home Ownership')\n",
    "plt.ylabel('Loan Amount')\n",
    "plt.show()"
   ]
  },
  {
   "cell_type": "markdown",
   "metadata": {},
   "source": [
    "#### Encoding Variables"
   ]
  },
  {
   "cell_type": "code",
   "execution_count": 17,
   "metadata": {},
   "outputs": [],
   "source": [
    "for col in cleaned_df.columns:\n",
    "    if cleaned_df[col].dtype == 'object':\n",
    "        cleaned_df[col] = labelEncoder.fit_transform(cleaned_df[col])"
   ]
  },
  {
   "cell_type": "code",
   "execution_count": 18,
   "metadata": {},
   "outputs": [
    {
     "data": {
      "application/vnd.microsoft.datawrangler.viewer.v0+json": {
       "columns": [
        {
         "name": "index",
         "rawType": "int64",
         "type": "integer"
        },
        {
         "name": "person_age",
         "rawType": "float64",
         "type": "float"
        },
        {
         "name": "person_gender",
         "rawType": "int32",
         "type": "integer"
        },
        {
         "name": "person_education",
         "rawType": "int32",
         "type": "integer"
        },
        {
         "name": "person_income",
         "rawType": "float64",
         "type": "float"
        },
        {
         "name": "person_emp_exp",
         "rawType": "int64",
         "type": "integer"
        },
        {
         "name": "person_home_ownership",
         "rawType": "int32",
         "type": "integer"
        },
        {
         "name": "loan_amnt",
         "rawType": "float64",
         "type": "float"
        },
        {
         "name": "loan_intent",
         "rawType": "int32",
         "type": "integer"
        },
        {
         "name": "loan_int_rate",
         "rawType": "float64",
         "type": "float"
        },
        {
         "name": "loan_percent_income",
         "rawType": "float64",
         "type": "float"
        },
        {
         "name": "cb_person_cred_hist_length",
         "rawType": "float64",
         "type": "float"
        },
        {
         "name": "credit_score",
         "rawType": "int64",
         "type": "integer"
        },
        {
         "name": "previous_loan_defaults_on_file",
         "rawType": "int32",
         "type": "integer"
        },
        {
         "name": "loan_status",
         "rawType": "int64",
         "type": "integer"
        }
       ],
       "conversionMethod": "pd.DataFrame",
       "ref": "b0828490-2e55-4541-a50d-09f4398297b7",
       "rows": [
        [
         "0",
         "22.0",
         "0",
         "4",
         "71948.0",
         "0",
         "3",
         "35000.0",
         "4",
         "16.02",
         "0.49",
         "3.0",
         "561",
         "0",
         "1"
        ],
        [
         "1",
         "21.0",
         "0",
         "3",
         "12282.0",
         "0",
         "2",
         "1000.0",
         "1",
         "11.14",
         "0.08",
         "2.0",
         "504",
         "1",
         "0"
        ],
        [
         "2",
         "25.0",
         "0",
         "3",
         "12438.0",
         "3",
         "0",
         "5500.0",
         "3",
         "12.87",
         "0.44",
         "3.0",
         "635",
         "0",
         "1"
        ],
        [
         "3",
         "23.0",
         "0",
         "1",
         "79753.0",
         "0",
         "3",
         "35000.0",
         "3",
         "15.23",
         "0.44",
         "2.0",
         "675",
         "0",
         "1"
        ],
        [
         "4",
         "24.0",
         "1",
         "4",
         "66135.0",
         "1",
         "3",
         "35000.0",
         "3",
         "14.27",
         "0.53",
         "4.0",
         "586",
         "0",
         "1"
        ]
       ],
       "shape": {
        "columns": 14,
        "rows": 5
       }
      },
      "text/html": [
       "<div>\n",
       "<style scoped>\n",
       "    .dataframe tbody tr th:only-of-type {\n",
       "        vertical-align: middle;\n",
       "    }\n",
       "\n",
       "    .dataframe tbody tr th {\n",
       "        vertical-align: top;\n",
       "    }\n",
       "\n",
       "    .dataframe thead th {\n",
       "        text-align: right;\n",
       "    }\n",
       "</style>\n",
       "<table border=\"1\" class=\"dataframe\">\n",
       "  <thead>\n",
       "    <tr style=\"text-align: right;\">\n",
       "      <th></th>\n",
       "      <th>person_age</th>\n",
       "      <th>person_gender</th>\n",
       "      <th>person_education</th>\n",
       "      <th>person_income</th>\n",
       "      <th>person_emp_exp</th>\n",
       "      <th>person_home_ownership</th>\n",
       "      <th>loan_amnt</th>\n",
       "      <th>loan_intent</th>\n",
       "      <th>loan_int_rate</th>\n",
       "      <th>loan_percent_income</th>\n",
       "      <th>cb_person_cred_hist_length</th>\n",
       "      <th>credit_score</th>\n",
       "      <th>previous_loan_defaults_on_file</th>\n",
       "      <th>loan_status</th>\n",
       "    </tr>\n",
       "  </thead>\n",
       "  <tbody>\n",
       "    <tr>\n",
       "      <th>0</th>\n",
       "      <td>22.0</td>\n",
       "      <td>0</td>\n",
       "      <td>4</td>\n",
       "      <td>71948.0</td>\n",
       "      <td>0</td>\n",
       "      <td>3</td>\n",
       "      <td>35000.0</td>\n",
       "      <td>4</td>\n",
       "      <td>16.02</td>\n",
       "      <td>0.49</td>\n",
       "      <td>3.0</td>\n",
       "      <td>561</td>\n",
       "      <td>0</td>\n",
       "      <td>1</td>\n",
       "    </tr>\n",
       "    <tr>\n",
       "      <th>1</th>\n",
       "      <td>21.0</td>\n",
       "      <td>0</td>\n",
       "      <td>3</td>\n",
       "      <td>12282.0</td>\n",
       "      <td>0</td>\n",
       "      <td>2</td>\n",
       "      <td>1000.0</td>\n",
       "      <td>1</td>\n",
       "      <td>11.14</td>\n",
       "      <td>0.08</td>\n",
       "      <td>2.0</td>\n",
       "      <td>504</td>\n",
       "      <td>1</td>\n",
       "      <td>0</td>\n",
       "    </tr>\n",
       "    <tr>\n",
       "      <th>2</th>\n",
       "      <td>25.0</td>\n",
       "      <td>0</td>\n",
       "      <td>3</td>\n",
       "      <td>12438.0</td>\n",
       "      <td>3</td>\n",
       "      <td>0</td>\n",
       "      <td>5500.0</td>\n",
       "      <td>3</td>\n",
       "      <td>12.87</td>\n",
       "      <td>0.44</td>\n",
       "      <td>3.0</td>\n",
       "      <td>635</td>\n",
       "      <td>0</td>\n",
       "      <td>1</td>\n",
       "    </tr>\n",
       "    <tr>\n",
       "      <th>3</th>\n",
       "      <td>23.0</td>\n",
       "      <td>0</td>\n",
       "      <td>1</td>\n",
       "      <td>79753.0</td>\n",
       "      <td>0</td>\n",
       "      <td>3</td>\n",
       "      <td>35000.0</td>\n",
       "      <td>3</td>\n",
       "      <td>15.23</td>\n",
       "      <td>0.44</td>\n",
       "      <td>2.0</td>\n",
       "      <td>675</td>\n",
       "      <td>0</td>\n",
       "      <td>1</td>\n",
       "    </tr>\n",
       "    <tr>\n",
       "      <th>4</th>\n",
       "      <td>24.0</td>\n",
       "      <td>1</td>\n",
       "      <td>4</td>\n",
       "      <td>66135.0</td>\n",
       "      <td>1</td>\n",
       "      <td>3</td>\n",
       "      <td>35000.0</td>\n",
       "      <td>3</td>\n",
       "      <td>14.27</td>\n",
       "      <td>0.53</td>\n",
       "      <td>4.0</td>\n",
       "      <td>586</td>\n",
       "      <td>0</td>\n",
       "      <td>1</td>\n",
       "    </tr>\n",
       "  </tbody>\n",
       "</table>\n",
       "</div>"
      ],
      "text/plain": [
       "   person_age  person_gender  person_education  person_income  person_emp_exp  \\\n",
       "0        22.0              0                 4        71948.0               0   \n",
       "1        21.0              0                 3        12282.0               0   \n",
       "2        25.0              0                 3        12438.0               3   \n",
       "3        23.0              0                 1        79753.0               0   \n",
       "4        24.0              1                 4        66135.0               1   \n",
       "\n",
       "   person_home_ownership  loan_amnt  loan_intent  loan_int_rate  \\\n",
       "0                      3    35000.0            4          16.02   \n",
       "1                      2     1000.0            1          11.14   \n",
       "2                      0     5500.0            3          12.87   \n",
       "3                      3    35000.0            3          15.23   \n",
       "4                      3    35000.0            3          14.27   \n",
       "\n",
       "   loan_percent_income  cb_person_cred_hist_length  credit_score  \\\n",
       "0                 0.49                         3.0           561   \n",
       "1                 0.08                         2.0           504   \n",
       "2                 0.44                         3.0           635   \n",
       "3                 0.44                         2.0           675   \n",
       "4                 0.53                         4.0           586   \n",
       "\n",
       "   previous_loan_defaults_on_file  loan_status  \n",
       "0                               0            1  \n",
       "1                               1            0  \n",
       "2                               0            1  \n",
       "3                               0            1  \n",
       "4                               0            1  "
      ]
     },
     "execution_count": 18,
     "metadata": {},
     "output_type": "execute_result"
    }
   ],
   "source": [
    "cleaned_df.head()"
   ]
  },
  {
   "cell_type": "markdown",
   "metadata": {},
   "source": [
    "### Variable Selection"
   ]
  },
  {
   "cell_type": "code",
   "execution_count": 19,
   "metadata": {},
   "outputs": [
    {
     "data": {
      "application/vnd.microsoft.datawrangler.viewer.v0+json": {
       "columns": [
        {
         "name": "index",
         "rawType": "int64",
         "type": "integer"
        },
        {
         "name": "person_age",
         "rawType": "float64",
         "type": "float"
        },
        {
         "name": "person_gender",
         "rawType": "int32",
         "type": "integer"
        },
        {
         "name": "person_education",
         "rawType": "int32",
         "type": "integer"
        },
        {
         "name": "person_income",
         "rawType": "float64",
         "type": "float"
        },
        {
         "name": "person_emp_exp",
         "rawType": "int64",
         "type": "integer"
        },
        {
         "name": "person_home_ownership",
         "rawType": "int32",
         "type": "integer"
        },
        {
         "name": "loan_amnt",
         "rawType": "float64",
         "type": "float"
        },
        {
         "name": "loan_intent",
         "rawType": "int32",
         "type": "integer"
        },
        {
         "name": "loan_int_rate",
         "rawType": "float64",
         "type": "float"
        },
        {
         "name": "loan_percent_income",
         "rawType": "float64",
         "type": "float"
        },
        {
         "name": "cb_person_cred_hist_length",
         "rawType": "float64",
         "type": "float"
        },
        {
         "name": "credit_score",
         "rawType": "int64",
         "type": "integer"
        },
        {
         "name": "previous_loan_defaults_on_file",
         "rawType": "int32",
         "type": "integer"
        }
       ],
       "conversionMethod": "pd.DataFrame",
       "ref": "03663718-c7bf-46c6-b4e6-c713e2bf965a",
       "rows": [
        [
         "0",
         "22.0",
         "0",
         "4",
         "71948.0",
         "0",
         "3",
         "35000.0",
         "4",
         "16.02",
         "0.49",
         "3.0",
         "561",
         "0"
        ],
        [
         "1",
         "21.0",
         "0",
         "3",
         "12282.0",
         "0",
         "2",
         "1000.0",
         "1",
         "11.14",
         "0.08",
         "2.0",
         "504",
         "1"
        ],
        [
         "2",
         "25.0",
         "0",
         "3",
         "12438.0",
         "3",
         "0",
         "5500.0",
         "3",
         "12.87",
         "0.44",
         "3.0",
         "635",
         "0"
        ],
        [
         "3",
         "23.0",
         "0",
         "1",
         "79753.0",
         "0",
         "3",
         "35000.0",
         "3",
         "15.23",
         "0.44",
         "2.0",
         "675",
         "0"
        ],
        [
         "4",
         "24.0",
         "1",
         "4",
         "66135.0",
         "1",
         "3",
         "35000.0",
         "3",
         "14.27",
         "0.53",
         "4.0",
         "586",
         "0"
        ]
       ],
       "shape": {
        "columns": 13,
        "rows": 5
       }
      },
      "text/html": [
       "<div>\n",
       "<style scoped>\n",
       "    .dataframe tbody tr th:only-of-type {\n",
       "        vertical-align: middle;\n",
       "    }\n",
       "\n",
       "    .dataframe tbody tr th {\n",
       "        vertical-align: top;\n",
       "    }\n",
       "\n",
       "    .dataframe thead th {\n",
       "        text-align: right;\n",
       "    }\n",
       "</style>\n",
       "<table border=\"1\" class=\"dataframe\">\n",
       "  <thead>\n",
       "    <tr style=\"text-align: right;\">\n",
       "      <th></th>\n",
       "      <th>person_age</th>\n",
       "      <th>person_gender</th>\n",
       "      <th>person_education</th>\n",
       "      <th>person_income</th>\n",
       "      <th>person_emp_exp</th>\n",
       "      <th>person_home_ownership</th>\n",
       "      <th>loan_amnt</th>\n",
       "      <th>loan_intent</th>\n",
       "      <th>loan_int_rate</th>\n",
       "      <th>loan_percent_income</th>\n",
       "      <th>cb_person_cred_hist_length</th>\n",
       "      <th>credit_score</th>\n",
       "      <th>previous_loan_defaults_on_file</th>\n",
       "    </tr>\n",
       "  </thead>\n",
       "  <tbody>\n",
       "    <tr>\n",
       "      <th>0</th>\n",
       "      <td>22.0</td>\n",
       "      <td>0</td>\n",
       "      <td>4</td>\n",
       "      <td>71948.0</td>\n",
       "      <td>0</td>\n",
       "      <td>3</td>\n",
       "      <td>35000.0</td>\n",
       "      <td>4</td>\n",
       "      <td>16.02</td>\n",
       "      <td>0.49</td>\n",
       "      <td>3.0</td>\n",
       "      <td>561</td>\n",
       "      <td>0</td>\n",
       "    </tr>\n",
       "    <tr>\n",
       "      <th>1</th>\n",
       "      <td>21.0</td>\n",
       "      <td>0</td>\n",
       "      <td>3</td>\n",
       "      <td>12282.0</td>\n",
       "      <td>0</td>\n",
       "      <td>2</td>\n",
       "      <td>1000.0</td>\n",
       "      <td>1</td>\n",
       "      <td>11.14</td>\n",
       "      <td>0.08</td>\n",
       "      <td>2.0</td>\n",
       "      <td>504</td>\n",
       "      <td>1</td>\n",
       "    </tr>\n",
       "    <tr>\n",
       "      <th>2</th>\n",
       "      <td>25.0</td>\n",
       "      <td>0</td>\n",
       "      <td>3</td>\n",
       "      <td>12438.0</td>\n",
       "      <td>3</td>\n",
       "      <td>0</td>\n",
       "      <td>5500.0</td>\n",
       "      <td>3</td>\n",
       "      <td>12.87</td>\n",
       "      <td>0.44</td>\n",
       "      <td>3.0</td>\n",
       "      <td>635</td>\n",
       "      <td>0</td>\n",
       "    </tr>\n",
       "    <tr>\n",
       "      <th>3</th>\n",
       "      <td>23.0</td>\n",
       "      <td>0</td>\n",
       "      <td>1</td>\n",
       "      <td>79753.0</td>\n",
       "      <td>0</td>\n",
       "      <td>3</td>\n",
       "      <td>35000.0</td>\n",
       "      <td>3</td>\n",
       "      <td>15.23</td>\n",
       "      <td>0.44</td>\n",
       "      <td>2.0</td>\n",
       "      <td>675</td>\n",
       "      <td>0</td>\n",
       "    </tr>\n",
       "    <tr>\n",
       "      <th>4</th>\n",
       "      <td>24.0</td>\n",
       "      <td>1</td>\n",
       "      <td>4</td>\n",
       "      <td>66135.0</td>\n",
       "      <td>1</td>\n",
       "      <td>3</td>\n",
       "      <td>35000.0</td>\n",
       "      <td>3</td>\n",
       "      <td>14.27</td>\n",
       "      <td>0.53</td>\n",
       "      <td>4.0</td>\n",
       "      <td>586</td>\n",
       "      <td>0</td>\n",
       "    </tr>\n",
       "  </tbody>\n",
       "</table>\n",
       "</div>"
      ],
      "text/plain": [
       "   person_age  person_gender  person_education  person_income  person_emp_exp  \\\n",
       "0        22.0              0                 4        71948.0               0   \n",
       "1        21.0              0                 3        12282.0               0   \n",
       "2        25.0              0                 3        12438.0               3   \n",
       "3        23.0              0                 1        79753.0               0   \n",
       "4        24.0              1                 4        66135.0               1   \n",
       "\n",
       "   person_home_ownership  loan_amnt  loan_intent  loan_int_rate  \\\n",
       "0                      3    35000.0            4          16.02   \n",
       "1                      2     1000.0            1          11.14   \n",
       "2                      0     5500.0            3          12.87   \n",
       "3                      3    35000.0            3          15.23   \n",
       "4                      3    35000.0            3          14.27   \n",
       "\n",
       "   loan_percent_income  cb_person_cred_hist_length  credit_score  \\\n",
       "0                 0.49                         3.0           561   \n",
       "1                 0.08                         2.0           504   \n",
       "2                 0.44                         3.0           635   \n",
       "3                 0.44                         2.0           675   \n",
       "4                 0.53                         4.0           586   \n",
       "\n",
       "   previous_loan_defaults_on_file  \n",
       "0                               0  \n",
       "1                               1  \n",
       "2                               0  \n",
       "3                               0  \n",
       "4                               0  "
      ]
     },
     "metadata": {},
     "output_type": "display_data"
    }
   ],
   "source": [
    "X = cleaned_df.drop(columns=['loan_status'])\n",
    "y = cleaned_df['loan_status']\n",
    "\n",
    "display(X.head())"
   ]
  },
  {
   "cell_type": "markdown",
   "metadata": {},
   "source": [
    "### Decision-Tree Model"
   ]
  },
  {
   "cell_type": "markdown",
   "metadata": {},
   "source": [
    "#### Train-Test Split"
   ]
  },
  {
   "cell_type": "code",
   "execution_count": 20,
   "metadata": {},
   "outputs": [
    {
     "name": "stdout",
     "output_type": "stream",
     "text": [
      "Training Accuracy:  1.0\n",
      "Test Accuracy:  0.899121343565788\n"
     ]
    }
   ],
   "source": [
    "X_train, X_test, y_train, y_test = train_test_split(X, y, test_size=0.2, random_state=42)\n",
    "\n",
    "decisionTree = DecisionTreeClassifier(random_state=42)\n",
    "\n",
    "decisionTree.fit(X_train, y_train)\n",
    "y_pred = decisionTree.predict(X_test)\n",
    "\n",
    "training_accuracy = decisionTree.score(X_train, y_train)\n",
    "test_accuracy = accuracy_score(y_test, y_pred)\n",
    "\n",
    "print(\"Training Accuracy: \", training_accuracy)\n",
    "print(\"Test Accuracy: \", test_accuracy)"
   ]
  },
  {
   "cell_type": "markdown",
   "metadata": {},
   "source": [
    "#### Training and Testing Accuracy for Different Depths"
   ]
  },
  {
   "cell_type": "code",
   "execution_count": 21,
   "metadata": {},
   "outputs": [
    {
     "data": {
      "application/vnd.microsoft.datawrangler.viewer.v0+json": {
       "columns": [
        {
         "name": "index",
         "rawType": "int64",
         "type": "integer"
        },
        {
         "name": "Depth",
         "rawType": "int64",
         "type": "integer"
        },
        {
         "name": "Training Accuracy",
         "rawType": "float64",
         "type": "float"
        },
        {
         "name": "Testing Accuracy",
         "rawType": "float64",
         "type": "float"
        }
       ],
       "conversionMethod": "pd.DataFrame",
       "ref": "d4cafca4-0309-4b61-94d2-d908e12117cc",
       "rows": [
        [
         "0",
         "1",
         "0.7774749721913237",
         "0.7781114447781114"
        ],
        [
         "1",
         "2",
         "0.8508898776418242",
         "0.8535201868535202"
        ],
        [
         "2",
         "3",
         "0.8960789766407119",
         "0.8925592258925592"
        ],
        [
         "3",
         "4",
         "0.9097330367074528",
         "0.9052385719052386"
        ],
        [
         "4",
         "5",
         "0.914321468298109",
         "0.9123568012456902"
        ],
        [
         "5",
         "6",
         "0.9184371523915461",
         "0.9122455789122456"
        ],
        [
         "6",
         "7",
         "0.9202447163515016",
         "0.913913913913914"
        ],
        [
         "7",
         "8",
         "0.9235539488320356",
         "0.9148036925814703"
        ],
        [
         "8",
         "9",
         "0.9274193548387096",
         "0.9148036925814703"
        ],
        [
         "9",
         "10",
         "0.9312569521690768",
         "0.9146924702480258"
        ],
        [
         "10",
         "11",
         "0.9363181312569522",
         "0.9153598042486931"
        ],
        [
         "11",
         "12",
         "0.9437152391546162",
         "0.9145812479145813"
        ],
        [
         "12",
         "13",
         "0.9490266963292547",
         "0.9125792459125792"
        ],
        [
         "13",
         "14",
         "0.9554783092324806",
         "0.9106884662440218"
        ],
        [
         "14",
         "15",
         "0.9622080088987764",
         "0.9112445779112446"
        ],
        [
         "15",
         "16",
         "0.9684371523915462",
         "0.9100211322433545"
        ],
        [
         "16",
         "17",
         "0.9748331479421579",
         "0.9075742409075742"
        ],
        [
         "17",
         "18",
         "0.9801446051167965",
         "0.9060171282393504"
        ],
        [
         "18",
         "19",
         "0.985567296996663",
         "0.9045712379045713"
        ],
        [
         "19",
         "20",
         "0.9899610678531702",
         "0.903125347569792"
        ],
        [
         "20",
         "21",
         "0.9937708565072303",
         "0.9026804582360138"
        ],
        [
         "21",
         "22",
         "0.9958565072302559",
         "0.9034590145701257"
        ],
        [
         "22",
         "23",
         "0.9973581757508343",
         "0.9004560115671226"
        ],
        [
         "23",
         "24",
         "0.9983314794215795",
         "0.9022355689022356"
        ],
        [
         "24",
         "25",
         "0.9989710789766407",
         "0.8982315648982315"
        ],
        [
         "25",
         "26",
         "0.9993325917686318",
         "0.8992325658992326"
        ],
        [
         "26",
         "27",
         "0.9996384872080089",
         "0.9006784562340118"
        ],
        [
         "27",
         "28",
         "0.9998053392658509",
         "0.900122344566789"
        ],
        [
         "28",
         "29",
         "0.999916573971079",
         "0.8993437882326771"
        ]
       ],
       "shape": {
        "columns": 3,
        "rows": 29
       }
      },
      "text/html": [
       "<div>\n",
       "<style scoped>\n",
       "    .dataframe tbody tr th:only-of-type {\n",
       "        vertical-align: middle;\n",
       "    }\n",
       "\n",
       "    .dataframe tbody tr th {\n",
       "        vertical-align: top;\n",
       "    }\n",
       "\n",
       "    .dataframe thead th {\n",
       "        text-align: right;\n",
       "    }\n",
       "</style>\n",
       "<table border=\"1\" class=\"dataframe\">\n",
       "  <thead>\n",
       "    <tr style=\"text-align: right;\">\n",
       "      <th></th>\n",
       "      <th>Depth</th>\n",
       "      <th>Training Accuracy</th>\n",
       "      <th>Testing Accuracy</th>\n",
       "    </tr>\n",
       "  </thead>\n",
       "  <tbody>\n",
       "    <tr>\n",
       "      <th>0</th>\n",
       "      <td>1</td>\n",
       "      <td>0.777475</td>\n",
       "      <td>0.778111</td>\n",
       "    </tr>\n",
       "    <tr>\n",
       "      <th>1</th>\n",
       "      <td>2</td>\n",
       "      <td>0.850890</td>\n",
       "      <td>0.853520</td>\n",
       "    </tr>\n",
       "    <tr>\n",
       "      <th>2</th>\n",
       "      <td>3</td>\n",
       "      <td>0.896079</td>\n",
       "      <td>0.892559</td>\n",
       "    </tr>\n",
       "    <tr>\n",
       "      <th>3</th>\n",
       "      <td>4</td>\n",
       "      <td>0.909733</td>\n",
       "      <td>0.905239</td>\n",
       "    </tr>\n",
       "    <tr>\n",
       "      <th>4</th>\n",
       "      <td>5</td>\n",
       "      <td>0.914321</td>\n",
       "      <td>0.912357</td>\n",
       "    </tr>\n",
       "    <tr>\n",
       "      <th>5</th>\n",
       "      <td>6</td>\n",
       "      <td>0.918437</td>\n",
       "      <td>0.912246</td>\n",
       "    </tr>\n",
       "    <tr>\n",
       "      <th>6</th>\n",
       "      <td>7</td>\n",
       "      <td>0.920245</td>\n",
       "      <td>0.913914</td>\n",
       "    </tr>\n",
       "    <tr>\n",
       "      <th>7</th>\n",
       "      <td>8</td>\n",
       "      <td>0.923554</td>\n",
       "      <td>0.914804</td>\n",
       "    </tr>\n",
       "    <tr>\n",
       "      <th>8</th>\n",
       "      <td>9</td>\n",
       "      <td>0.927419</td>\n",
       "      <td>0.914804</td>\n",
       "    </tr>\n",
       "    <tr>\n",
       "      <th>9</th>\n",
       "      <td>10</td>\n",
       "      <td>0.931257</td>\n",
       "      <td>0.914692</td>\n",
       "    </tr>\n",
       "    <tr>\n",
       "      <th>10</th>\n",
       "      <td>11</td>\n",
       "      <td>0.936318</td>\n",
       "      <td>0.915360</td>\n",
       "    </tr>\n",
       "    <tr>\n",
       "      <th>11</th>\n",
       "      <td>12</td>\n",
       "      <td>0.943715</td>\n",
       "      <td>0.914581</td>\n",
       "    </tr>\n",
       "    <tr>\n",
       "      <th>12</th>\n",
       "      <td>13</td>\n",
       "      <td>0.949027</td>\n",
       "      <td>0.912579</td>\n",
       "    </tr>\n",
       "    <tr>\n",
       "      <th>13</th>\n",
       "      <td>14</td>\n",
       "      <td>0.955478</td>\n",
       "      <td>0.910688</td>\n",
       "    </tr>\n",
       "    <tr>\n",
       "      <th>14</th>\n",
       "      <td>15</td>\n",
       "      <td>0.962208</td>\n",
       "      <td>0.911245</td>\n",
       "    </tr>\n",
       "    <tr>\n",
       "      <th>15</th>\n",
       "      <td>16</td>\n",
       "      <td>0.968437</td>\n",
       "      <td>0.910021</td>\n",
       "    </tr>\n",
       "    <tr>\n",
       "      <th>16</th>\n",
       "      <td>17</td>\n",
       "      <td>0.974833</td>\n",
       "      <td>0.907574</td>\n",
       "    </tr>\n",
       "    <tr>\n",
       "      <th>17</th>\n",
       "      <td>18</td>\n",
       "      <td>0.980145</td>\n",
       "      <td>0.906017</td>\n",
       "    </tr>\n",
       "    <tr>\n",
       "      <th>18</th>\n",
       "      <td>19</td>\n",
       "      <td>0.985567</td>\n",
       "      <td>0.904571</td>\n",
       "    </tr>\n",
       "    <tr>\n",
       "      <th>19</th>\n",
       "      <td>20</td>\n",
       "      <td>0.989961</td>\n",
       "      <td>0.903125</td>\n",
       "    </tr>\n",
       "    <tr>\n",
       "      <th>20</th>\n",
       "      <td>21</td>\n",
       "      <td>0.993771</td>\n",
       "      <td>0.902680</td>\n",
       "    </tr>\n",
       "    <tr>\n",
       "      <th>21</th>\n",
       "      <td>22</td>\n",
       "      <td>0.995857</td>\n",
       "      <td>0.903459</td>\n",
       "    </tr>\n",
       "    <tr>\n",
       "      <th>22</th>\n",
       "      <td>23</td>\n",
       "      <td>0.997358</td>\n",
       "      <td>0.900456</td>\n",
       "    </tr>\n",
       "    <tr>\n",
       "      <th>23</th>\n",
       "      <td>24</td>\n",
       "      <td>0.998331</td>\n",
       "      <td>0.902236</td>\n",
       "    </tr>\n",
       "    <tr>\n",
       "      <th>24</th>\n",
       "      <td>25</td>\n",
       "      <td>0.998971</td>\n",
       "      <td>0.898232</td>\n",
       "    </tr>\n",
       "    <tr>\n",
       "      <th>25</th>\n",
       "      <td>26</td>\n",
       "      <td>0.999333</td>\n",
       "      <td>0.899233</td>\n",
       "    </tr>\n",
       "    <tr>\n",
       "      <th>26</th>\n",
       "      <td>27</td>\n",
       "      <td>0.999638</td>\n",
       "      <td>0.900678</td>\n",
       "    </tr>\n",
       "    <tr>\n",
       "      <th>27</th>\n",
       "      <td>28</td>\n",
       "      <td>0.999805</td>\n",
       "      <td>0.900122</td>\n",
       "    </tr>\n",
       "    <tr>\n",
       "      <th>28</th>\n",
       "      <td>29</td>\n",
       "      <td>0.999917</td>\n",
       "      <td>0.899344</td>\n",
       "    </tr>\n",
       "  </tbody>\n",
       "</table>\n",
       "</div>"
      ],
      "text/plain": [
       "    Depth  Training Accuracy  Testing Accuracy\n",
       "0       1           0.777475          0.778111\n",
       "1       2           0.850890          0.853520\n",
       "2       3           0.896079          0.892559\n",
       "3       4           0.909733          0.905239\n",
       "4       5           0.914321          0.912357\n",
       "5       6           0.918437          0.912246\n",
       "6       7           0.920245          0.913914\n",
       "7       8           0.923554          0.914804\n",
       "8       9           0.927419          0.914804\n",
       "9      10           0.931257          0.914692\n",
       "10     11           0.936318          0.915360\n",
       "11     12           0.943715          0.914581\n",
       "12     13           0.949027          0.912579\n",
       "13     14           0.955478          0.910688\n",
       "14     15           0.962208          0.911245\n",
       "15     16           0.968437          0.910021\n",
       "16     17           0.974833          0.907574\n",
       "17     18           0.980145          0.906017\n",
       "18     19           0.985567          0.904571\n",
       "19     20           0.989961          0.903125\n",
       "20     21           0.993771          0.902680\n",
       "21     22           0.995857          0.903459\n",
       "22     23           0.997358          0.900456\n",
       "23     24           0.998331          0.902236\n",
       "24     25           0.998971          0.898232\n",
       "25     26           0.999333          0.899233\n",
       "26     27           0.999638          0.900678\n",
       "27     28           0.999805          0.900122\n",
       "28     29           0.999917          0.899344"
      ]
     },
     "execution_count": 21,
     "metadata": {},
     "output_type": "execute_result"
    }
   ],
   "source": [
    "depth, training, testing = [], [], []\n",
    "\n",
    "for i in range(1, 30):\n",
    "    decisionTree = DecisionTreeClassifier(max_depth=i, random_state=42)\n",
    "    decisionTree.fit(X_train, y_train)\n",
    "    training.append(decisionTree.score(X_train, y_train))\n",
    "    testing.append(decisionTree.score(X_test, y_test))\n",
    "    depth.append(i)\n",
    "    \n",
    "decisionTreeDF = pd.DataFrame({\"Depth\": depth, \"Training Accuracy\": training, \"Testing Accuracy\": testing})\n",
    "\n",
    "decisionTreeDF"
   ]
  },
  {
   "cell_type": "markdown",
   "metadata": {},
   "source": [
    "#### Feature Importance"
   ]
  },
  {
   "cell_type": "code",
   "execution_count": 22,
   "metadata": {},
   "outputs": [
    {
     "data": {
      "application/vnd.microsoft.datawrangler.viewer.v0+json": {
       "columns": [
        {
         "name": "index",
         "rawType": "int64",
         "type": "integer"
        },
        {
         "name": "Feature",
         "rawType": "object",
         "type": "string"
        },
        {
         "name": "Importance",
         "rawType": "float64",
         "type": "float"
        }
       ],
       "conversionMethod": "pd.DataFrame",
       "ref": "cfdc99af-ed2f-491d-a817-9802365a9e02",
       "rows": [
        [
         "0",
         "previous_loan_defaults_on_file",
         "0.29364143908006035"
        ],
        [
         "1",
         "loan_int_rate",
         "0.16749177285156372"
        ],
        [
         "2",
         "loan_percent_income",
         "0.15550357842254958"
        ],
        [
         "3",
         "person_income",
         "0.1319355557144283"
        ],
        [
         "4",
         "credit_score",
         "0.05918726395465877"
        ],
        [
         "5",
         "person_home_ownership",
         "0.04320553963424933"
        ],
        [
         "6",
         "loan_intent",
         "0.0381069534026482"
        ],
        [
         "7",
         "loan_amnt",
         "0.03232872336960922"
        ],
        [
         "8",
         "person_age",
         "0.020391610750114267"
        ],
        [
         "9",
         "person_emp_exp",
         "0.020179911927552984"
        ],
        [
         "10",
         "cb_person_cred_hist_length",
         "0.01822977459222269"
        ],
        [
         "11",
         "person_education",
         "0.014288161762752067"
        ],
        [
         "12",
         "person_gender",
         "0.005509714537590572"
        ]
       ],
       "shape": {
        "columns": 2,
        "rows": 13
       }
      },
      "text/html": [
       "<div>\n",
       "<style scoped>\n",
       "    .dataframe tbody tr th:only-of-type {\n",
       "        vertical-align: middle;\n",
       "    }\n",
       "\n",
       "    .dataframe tbody tr th {\n",
       "        vertical-align: top;\n",
       "    }\n",
       "\n",
       "    .dataframe thead th {\n",
       "        text-align: right;\n",
       "    }\n",
       "</style>\n",
       "<table border=\"1\" class=\"dataframe\">\n",
       "  <thead>\n",
       "    <tr style=\"text-align: right;\">\n",
       "      <th></th>\n",
       "      <th>Feature</th>\n",
       "      <th>Importance</th>\n",
       "    </tr>\n",
       "  </thead>\n",
       "  <tbody>\n",
       "    <tr>\n",
       "      <th>0</th>\n",
       "      <td>previous_loan_defaults_on_file</td>\n",
       "      <td>0.293641</td>\n",
       "    </tr>\n",
       "    <tr>\n",
       "      <th>1</th>\n",
       "      <td>loan_int_rate</td>\n",
       "      <td>0.167492</td>\n",
       "    </tr>\n",
       "    <tr>\n",
       "      <th>2</th>\n",
       "      <td>loan_percent_income</td>\n",
       "      <td>0.155504</td>\n",
       "    </tr>\n",
       "    <tr>\n",
       "      <th>3</th>\n",
       "      <td>person_income</td>\n",
       "      <td>0.131936</td>\n",
       "    </tr>\n",
       "    <tr>\n",
       "      <th>4</th>\n",
       "      <td>credit_score</td>\n",
       "      <td>0.059187</td>\n",
       "    </tr>\n",
       "    <tr>\n",
       "      <th>5</th>\n",
       "      <td>person_home_ownership</td>\n",
       "      <td>0.043206</td>\n",
       "    </tr>\n",
       "    <tr>\n",
       "      <th>6</th>\n",
       "      <td>loan_intent</td>\n",
       "      <td>0.038107</td>\n",
       "    </tr>\n",
       "    <tr>\n",
       "      <th>7</th>\n",
       "      <td>loan_amnt</td>\n",
       "      <td>0.032329</td>\n",
       "    </tr>\n",
       "    <tr>\n",
       "      <th>8</th>\n",
       "      <td>person_age</td>\n",
       "      <td>0.020392</td>\n",
       "    </tr>\n",
       "    <tr>\n",
       "      <th>9</th>\n",
       "      <td>person_emp_exp</td>\n",
       "      <td>0.020180</td>\n",
       "    </tr>\n",
       "    <tr>\n",
       "      <th>10</th>\n",
       "      <td>cb_person_cred_hist_length</td>\n",
       "      <td>0.018230</td>\n",
       "    </tr>\n",
       "    <tr>\n",
       "      <th>11</th>\n",
       "      <td>person_education</td>\n",
       "      <td>0.014288</td>\n",
       "    </tr>\n",
       "    <tr>\n",
       "      <th>12</th>\n",
       "      <td>person_gender</td>\n",
       "      <td>0.005510</td>\n",
       "    </tr>\n",
       "  </tbody>\n",
       "</table>\n",
       "</div>"
      ],
      "text/plain": [
       "                           Feature  Importance\n",
       "0   previous_loan_defaults_on_file    0.293641\n",
       "1                    loan_int_rate    0.167492\n",
       "2              loan_percent_income    0.155504\n",
       "3                    person_income    0.131936\n",
       "4                     credit_score    0.059187\n",
       "5            person_home_ownership    0.043206\n",
       "6                      loan_intent    0.038107\n",
       "7                        loan_amnt    0.032329\n",
       "8                       person_age    0.020392\n",
       "9                   person_emp_exp    0.020180\n",
       "10      cb_person_cred_hist_length    0.018230\n",
       "11                person_education    0.014288\n",
       "12                   person_gender    0.005510"
      ]
     },
     "execution_count": 22,
     "metadata": {},
     "output_type": "execute_result"
    }
   ],
   "source": [
    "feature_importance = pd.DataFrame({\n",
    "    'Feature': X_train.columns,\n",
    "    'Importance': decisionTree.feature_importances_\n",
    "})\n",
    "\n",
    "feature_importance = feature_importance.sort_values(by='Importance', ascending=False).reset_index(drop=True)\n",
    "\n",
    "feature_importance"
   ]
  },
  {
   "cell_type": "markdown",
   "metadata": {},
   "source": [
    "#### Plotting Testing and Training Accuracy for Different Depths"
   ]
  },
  {
   "cell_type": "code",
   "execution_count": 23,
   "metadata": {},
   "outputs": [
    {
     "data": {
      "text/plain": [
       "Text(0, 0.5, 'Accuracy Score')"
      ]
     },
     "execution_count": 23,
     "metadata": {},
     "output_type": "execute_result"
    },
    {
     "data": {
      "image/png": "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",
      "text/plain": [
       "<Figure size 640x480 with 1 Axes>"
      ]
     },
     "metadata": {},
     "output_type": "display_data"
    }
   ],
   "source": [
    "plt.plot(decisionTreeDF['Depth'], decisionTreeDF['Training Accuracy'], label='Training Accuracy')\n",
    "plt.plot(decisionTreeDF['Depth'], decisionTreeDF['Testing Accuracy'], label='Testing Accuracy')\n",
    "plt.legend(loc='upper right')\n",
    "plt.title(\"Accuracy Scores vs Tree Depth\")\n",
    "plt.xlabel(\"Depth\")\n",
    "plt.ylabel(\"Accuracy Score\")"
   ]
  },
  {
   "cell_type": "markdown",
   "metadata": {},
   "source": [
    "#### Determining Best Depth"
   ]
  },
  {
   "cell_type": "code",
   "execution_count": 24,
   "metadata": {},
   "outputs": [
    {
     "name": "stdout",
     "output_type": "stream",
     "text": [
      "The best depth for the model: 8\n"
     ]
    }
   ],
   "source": [
    "parameters = {\"max_depth\": range(1,30)}\n",
    "grid_search = GridSearchCV(DecisionTreeClassifier(),parameters,cv=5, scoring='accuracy')\n",
    "\n",
    "grid_search.fit(X_train, y_train)\n",
    "\n",
    "best_depth = grid_search.best_params_\n",
    "\n",
    "print(\"The best depth for the model: \"+ str(best_depth['max_depth']))"
   ]
  },
  {
   "cell_type": "markdown",
   "metadata": {},
   "source": [
    "#### Testing and Training Accuracy for Best Depth"
   ]
  },
  {
   "cell_type": "code",
   "execution_count": 25,
   "metadata": {},
   "outputs": [
    {
     "name": "stdout",
     "output_type": "stream",
     "text": [
      "Training Accuracy:  0.9235539488320356\n",
      "Test Accuracy:  0.9148036925814703\n"
     ]
    }
   ],
   "source": [
    "decisionTree = DecisionTreeClassifier(max_depth=best_depth['max_depth'], random_state=42)\n",
    "\n",
    "decisionTree.fit(X_train, y_train)\n",
    "y_pred = decisionTree.predict(X_test)\n",
    "\n",
    "training_accuracy = decisionTree.score(X_train, y_train)\n",
    "test_accuracy = accuracy_score(y_test, y_pred)\n",
    "\n",
    "print(\"Training Accuracy: \", training_accuracy)\n",
    "print(\"Test Accuracy: \", test_accuracy)"
   ]
  },
  {
   "cell_type": "markdown",
   "metadata": {},
   "source": [
    "#### Confusion Matrix"
   ]
  },
  {
   "cell_type": "code",
   "execution_count": 26,
   "metadata": {},
   "outputs": [
    {
     "name": "stdout",
     "output_type": "stream",
     "text": [
      "[[6833  163]\n",
      " [ 603 1392]]\n"
     ]
    }
   ],
   "source": [
    "cm = confusion_matrix(y_test, y_pred)\n",
    "\n",
    "print(cm)"
   ]
  },
  {
   "cell_type": "markdown",
   "metadata": {},
   "source": [
    "### Support Vector Machine Model"
   ]
  },
  {
   "cell_type": "code",
   "execution_count": 27,
   "metadata": {},
   "outputs": [],
   "source": [
    "from sklearn.svm import SVC\n",
    "from sklearn.model_selection import GridSearchCV\n",
    "from sklearn.metrics import accuracy_score, confusion_matrix, classification_report\n",
    "\n",
    "from sklearn.model_selection import RandomizedSearchCV\n",
    "from scipy.stats import uniform, loguniform"
   ]
  },
  {
   "cell_type": "code",
   "execution_count": 28,
   "metadata": {},
   "outputs": [
    {
     "ename": "NameError",
     "evalue": "name 'X_train_scaled' is not defined",
     "output_type": "error",
     "traceback": [
      "\u001b[1;31m---------------------------------------------------------------------------\u001b[0m",
      "\u001b[1;31mNameError\u001b[0m                                 Traceback (most recent call last)",
      "Cell \u001b[1;32mIn[28], line 7\u001b[0m\n\u001b[0;32m      4\u001b[0m \u001b[38;5;28;01mfrom\u001b[39;00m \u001b[38;5;21;01msklearn\u001b[39;00m\u001b[38;5;21;01m.\u001b[39;00m\u001b[38;5;21;01mmodel_selection\u001b[39;00m \u001b[38;5;28;01mimport\u001b[39;00m train_test_split\n\u001b[0;32m      6\u001b[0m \u001b[38;5;66;03m# Use a smaller subset of the data\u001b[39;00m\n\u001b[1;32m----> 7\u001b[0m X_train_small, _, y_train_small, _ \u001b[38;5;241m=\u001b[39m train_test_split(\u001b[43mX_train_scaled\u001b[49m, y_train, train_size\u001b[38;5;241m=\u001b[39m\u001b[38;5;241m0.2\u001b[39m, random_state\u001b[38;5;241m=\u001b[39m\u001b[38;5;241m42\u001b[39m)\n",
      "\u001b[1;31mNameError\u001b[0m: name 'X_train_scaled' is not defined"
     ]
    }
   ],
   "source": [
    "# Split the data into training and testing sets\n",
    "X_train, X_test, y_train, y_test = train_test_split(X, y, test_size=0.2, random_state=42)\n",
    "\n",
    "from sklearn.model_selection import train_test_split\n",
    "\n",
    "# Use a smaller subset of the data\n",
    "X_train_small, _, y_train_small, _ = train_test_split(X_train_scaled, y_train, train_size=0.2, random_state=42)\n",
    "\n"
   ]
  },
  {
   "cell_type": "code",
   "execution_count": null,
   "metadata": {},
   "outputs": [],
   "source": [
    "# Standardize the features (important for SVM)\n",
    "scaler = StandardScaler()\n",
    "X_train_scaled = scaler.fit_transform(X_train)\n",
    "X_test_scaled = scaler.transform(X_test)\n",
    "\n",
    "# Initialize the SVM model\n",
    "svm_model = SVC(random_state=42)\n",
    "\n",
    "# Define a parameter distribution for RandomizedSearchCV\n",
    "param_dist = {\n",
    "    'C': loguniform(1e-2, 100),  # Log-uniform distribution for C\n",
    "    'gamma': loguniform(1e-3, 1),  # Log-uniform distribution for gamma\n",
    "    'kernel': ['rbf', 'linear']  # Kernel types\n",
    "}\n",
    "\n",
    "# Define the parameter grid for GridSearchCV\n",
    "#param_grid = {\n",
    "   # 'C': [0.1, 1, 10, 100],  # Regularization parameter\n",
    "   # 'gamma': [1, 0.1, 0.01, 0.001],  # Kernel coefficient\n",
    "   # 'kernel': ['rbf', 'linear']  # Kernel type\n",
    "#}"
   ]
  },
  {
   "cell_type": "code",
   "execution_count": null,
   "metadata": {},
   "outputs": [
    {
     "name": "stdout",
     "output_type": "stream",
     "text": [
      "Fitting 5 folds for each of 20 candidates, totalling 100 fits\n",
      "[CV 1/5] END C=0.31489116479568624, gamma=0.711447600934342, kernel=rbf;, score=0.868 total time=  35.1s\n",
      "[CV 2/5] END C=0.31489116479568624, gamma=0.711447600934342, kernel=rbf;, score=0.872 total time=  35.1s\n",
      "[CV 3/5] END C=0.31489116479568624, gamma=0.711447600934342, kernel=rbf;, score=0.867 total time=  34.9s\n",
      "[CV 4/5] END C=0.31489116479568624, gamma=0.711447600934342, kernel=rbf;, score=0.867 total time=  35.3s\n",
      "[CV 5/5] END C=0.31489116479568624, gamma=0.711447600934342, kernel=rbf;, score=0.864 total time=  34.8s\n",
      "[CV 1/5] END C=13.145103232150124, gamma=0.061737703947045704, kernel=linear;, score=0.888 total time=  30.5s\n",
      "[CV 2/5] END C=13.145103232150124, gamma=0.061737703947045704, kernel=linear;, score=0.898 total time=  28.1s\n",
      "[CV 3/5] END C=13.145103232150124, gamma=0.061737703947045704, kernel=linear;, score=0.889 total time=  29.9s\n",
      "[CV 4/5] END C=13.145103232150124, gamma=0.061737703947045704, kernel=linear;, score=0.895 total time=  27.8s\n",
      "[CV 5/5] END C=13.145103232150124, gamma=0.061737703947045704, kernel=linear;, score=0.892 total time=  30.0s\n",
      "[CV 1/5] END C=0.042070539502879395, gamma=0.0014936568554617625, kernel=linear;, score=0.888 total time=   5.4s\n",
      "[CV 2/5] END C=0.042070539502879395, gamma=0.0014936568554617625, kernel=linear;, score=0.897 total time=   5.2s\n",
      "[CV 3/5] END C=0.042070539502879395, gamma=0.0014936568554617625, kernel=linear;, score=0.887 total time=   5.4s\n",
      "[CV 4/5] END C=0.042070539502879395, gamma=0.0014936568554617625, kernel=linear;, score=0.894 total time=   5.3s\n",
      "[CV 5/5] END C=0.042070539502879395, gamma=0.0014936568554617625, kernel=linear;, score=0.892 total time=   5.5s\n",
      "[CV 1/5] END C=0.21618942406574443, gamma=0.0026828750938254387, kernel=rbf;, score=0.889 total time=  10.2s\n",
      "[CV 2/5] END C=0.21618942406574443, gamma=0.0026828750938254387, kernel=rbf;, score=0.898 total time=  10.3s\n",
      "[CV 3/5] END C=0.21618942406574443, gamma=0.0026828750938254387, kernel=rbf;, score=0.890 total time=  10.2s\n",
      "[CV 4/5] END C=0.21618942406574443, gamma=0.0026828750938254387, kernel=rbf;, score=0.891 total time=  10.2s\n",
      "[CV 5/5] END C=0.21618942406574443, gamma=0.0026828750938254387, kernel=rbf;, score=0.891 total time=  10.2s\n",
      "[CV 1/5] END C=0.012087541473056965, gamma=0.8123245085588685, kernel=linear;, score=0.888 total time=   5.3s\n",
      "[CV 2/5] END C=0.012087541473056965, gamma=0.8123245085588685, kernel=linear;, score=0.898 total time=   5.4s\n",
      "[CV 3/5] END C=0.012087541473056965, gamma=0.8123245085588685, kernel=linear;, score=0.889 total time=   5.1s\n",
      "[CV 4/5] END C=0.012087541473056965, gamma=0.8123245085588685, kernel=linear;, score=0.895 total time=   5.1s\n",
      "[CV 5/5] END C=0.012087541473056965, gamma=0.8123245085588685, kernel=linear;, score=0.892 total time=   5.2s\n",
      "[CV 1/5] END C=56.78201970293127, gamma=0.0010053940194693013, kernel=linear;, score=0.888 total time= 1.5min\n",
      "[CV 2/5] END C=56.78201970293127, gamma=0.0010053940194693013, kernel=linear;, score=0.898 total time= 1.5min\n",
      "[CV 3/5] END C=56.78201970293127, gamma=0.0010053940194693013, kernel=linear;, score=0.888 total time= 1.4min\n",
      "[CV 4/5] END C=56.78201970293127, gamma=0.0010053940194693013, kernel=linear;, score=0.895 total time= 1.4min\n",
      "[CV 5/5] END C=56.78201970293127, gamma=0.0010053940194693013, kernel=linear;, score=0.892 total time= 1.4min\n",
      "[CV 1/5] END C=0.05415244119402541, gamma=0.008179499475211672, kernel=linear;, score=0.888 total time=   5.6s\n",
      "[CV 2/5] END C=0.05415244119402541, gamma=0.008179499475211672, kernel=linear;, score=0.897 total time=   5.6s\n",
      "[CV 3/5] END C=0.05415244119402541, gamma=0.008179499475211672, kernel=linear;, score=0.887 total time=   5.4s\n",
      "[CV 4/5] END C=0.05415244119402541, gamma=0.008179499475211672, kernel=linear;, score=0.894 total time=   5.5s\n",
      "[CV 5/5] END C=0.05415244119402541, gamma=0.008179499475211672, kernel=linear;, score=0.892 total time=   5.4s\n",
      "[CV 1/5] END C=0.010672476836323726, gamma=0.0011727009450102248, kernel=rbf;, score=0.778 total time=  13.6s\n",
      "[CV 2/5] END C=0.010672476836323726, gamma=0.0011727009450102248, kernel=rbf;, score=0.778 total time=  13.5s\n",
      "[CV 3/5] END C=0.010672476836323726, gamma=0.0011727009450102248, kernel=rbf;, score=0.778 total time=  13.5s\n",
      "[CV 4/5] END C=0.010672476836323726, gamma=0.0011727009450102248, kernel=rbf;, score=0.778 total time=  13.4s\n",
      "[CV 5/5] END C=0.010672476836323726, gamma=0.0011727009450102248, kernel=rbf;, score=0.778 total time=  13.6s\n",
      "[CV 1/5] END C=2.801635158716261, gamma=0.002621087878265439, kernel=linear;, score=0.888 total time=  11.5s\n",
      "[CV 2/5] END C=2.801635158716261, gamma=0.002621087878265439, kernel=linear;, score=0.898 total time=  14.1s\n",
      "[CV 3/5] END C=2.801635158716261, gamma=0.002621087878265439, kernel=linear;, score=0.889 total time=  12.4s\n",
      "[CV 4/5] END C=2.801635158716261, gamma=0.002621087878265439, kernel=linear;, score=0.895 total time=  14.6s\n",
      "[CV 5/5] END C=2.801635158716261, gamma=0.002621087878265439, kernel=linear;, score=0.892 total time=  13.6s\n",
      "[CV 1/5] END C=78.52755494724258, gamma=0.004992453416923981, kernel=linear;, score=0.888 total time= 1.9min\n",
      "[CV 2/5] END C=78.52755494724258, gamma=0.004992453416923981, kernel=linear;, score=0.898 total time= 1.9min\n",
      "[CV 3/5] END C=78.52755494724258, gamma=0.004992453416923981, kernel=linear;, score=0.888 total time= 1.8min\n",
      "[CV 4/5] END C=78.52755494724258, gamma=0.004992453416923981, kernel=linear;, score=0.895 total time= 1.9min\n",
      "[CV 5/5] END C=78.52755494724258, gamma=0.004992453416923981, kernel=linear;, score=0.892 total time= 1.9min\n",
      "[CV 1/5] END C=13.826232179369875, gamma=0.00397211072738191, kernel=rbf;, score=0.899 total time=   8.4s\n",
      "[CV 2/5] END C=13.826232179369875, gamma=0.00397211072738191, kernel=rbf;, score=0.910 total time=   8.3s\n",
      "[CV 3/5] END C=13.826232179369875, gamma=0.00397211072738191, kernel=rbf;, score=0.897 total time=   8.2s\n",
      "[CV 4/5] END C=13.826232179369875, gamma=0.00397211072738191, kernel=rbf;, score=0.903 total time=   8.4s\n",
      "[CV 5/5] END C=13.826232179369875, gamma=0.00397211072738191, kernel=rbf;, score=0.902 total time=   8.2s\n",
      "[CV 1/5] END C=85.68869785189007, gamma=0.025135566617708285, kernel=rbf;, score=0.905 total time=  15.7s\n",
      "[CV 2/5] END C=85.68869785189007, gamma=0.025135566617708285, kernel=rbf;, score=0.911 total time=  16.0s\n",
      "[CV 3/5] END C=85.68869785189007, gamma=0.025135566617708285, kernel=rbf;, score=0.905 total time=  15.8s\n",
      "[CV 4/5] END C=85.68869785189007, gamma=0.025135566617708285, kernel=rbf;, score=0.908 total time=  16.1s\n",
      "[CV 5/5] END C=85.68869785189007, gamma=0.025135566617708285, kernel=rbf;, score=0.912 total time=  15.9s\n",
      "[CV 1/5] END C=2.69264691008618, gamma=0.0032476735706274485, kernel=rbf;, score=0.896 total time=   8.3s\n",
      "[CV 2/5] END C=2.69264691008618, gamma=0.0032476735706274485, kernel=rbf;, score=0.907 total time=   8.5s\n",
      "[CV 3/5] END C=2.69264691008618, gamma=0.0032476735706274485, kernel=rbf;, score=0.894 total time=   8.3s\n",
      "[CV 4/5] END C=2.69264691008618, gamma=0.0032476735706274485, kernel=rbf;, score=0.899 total time=   8.5s\n",
      "[CV 5/5] END C=2.69264691008618, gamma=0.0032476735706274485, kernel=rbf;, score=0.898 total time=   8.4s\n",
      "[CV 1/5] END C=0.01129951608310662, gamma=0.6708188643346285, kernel=linear;, score=0.888 total time=   5.2s\n",
      "[CV 2/5] END C=0.01129951608310662, gamma=0.6708188643346285, kernel=linear;, score=0.898 total time=   5.2s\n",
      "[CV 3/5] END C=0.01129951608310662, gamma=0.6708188643346285, kernel=linear;, score=0.888 total time=   5.1s\n",
      "[CV 4/5] END C=0.01129951608310662, gamma=0.6708188643346285, kernel=linear;, score=0.895 total time=   5.3s\n",
      "[CV 5/5] END C=0.01129951608310662, gamma=0.6708188643346285, kernel=linear;, score=0.892 total time=   5.2s\n",
      "[CV 1/5] END C=17.12337597316399, gamma=0.008200518402245833, kernel=rbf;, score=0.902 total time=   8.7s\n",
      "[CV 2/5] END C=17.12337597316399, gamma=0.008200518402245833, kernel=rbf;, score=0.912 total time=   8.4s\n",
      "[CV 3/5] END C=17.12337597316399, gamma=0.008200518402245833, kernel=rbf;, score=0.903 total time=   8.6s\n",
      "[CV 4/5] END C=17.12337597316399, gamma=0.008200518402245833, kernel=rbf;, score=0.906 total time=   8.4s\n",
      "[CV 5/5] END C=17.12337597316399, gamma=0.008200518402245833, kernel=rbf;, score=0.906 total time=   8.4s\n",
      "[CV 1/5] END C=0.0838639478040256, gamma=0.005285382203816726, kernel=linear;, score=0.888 total time=   5.5s\n",
      "[CV 2/5] END C=0.0838639478040256, gamma=0.005285382203816726, kernel=linear;, score=0.898 total time=   5.4s\n",
      "[CV 3/5] END C=0.0838639478040256, gamma=0.005285382203816726, kernel=linear;, score=0.888 total time=   5.7s\n",
      "[CV 4/5] END C=0.0838639478040256, gamma=0.005285382203816726, kernel=linear;, score=0.895 total time=   5.6s\n",
      "[CV 5/5] END C=0.0838639478040256, gamma=0.005285382203816726, kernel=linear;, score=0.892 total time=   5.5s\n",
      "[CV 1/5] END C=0.030771802712506867, gamma=0.030586566669785254, kernel=rbf;, score=0.891 total time=  10.1s\n",
      "[CV 2/5] END C=0.030771802712506867, gamma=0.030586566669785254, kernel=rbf;, score=0.899 total time=  10.2s\n",
      "[CV 3/5] END C=0.030771802712506867, gamma=0.030586566669785254, kernel=rbf;, score=0.895 total time=  10.1s\n",
      "[CV 4/5] END C=0.030771802712506867, gamma=0.030586566669785254, kernel=rbf;, score=0.896 total time=  10.4s\n",
      "[CV 5/5] END C=0.030771802712506867, gamma=0.030586566669785254, kernel=rbf;, score=0.895 total time=  10.3s\n",
      "[CV 1/5] END C=0.049369486949604593, gamma=0.014899847475658236, kernel=linear;, score=0.888 total time=   5.4s\n",
      "[CV 2/5] END C=0.049369486949604593, gamma=0.014899847475658236, kernel=linear;, score=0.897 total time=   5.7s\n",
      "[CV 3/5] END C=0.049369486949604593, gamma=0.014899847475658236, kernel=linear;, score=0.887 total time=   5.7s\n",
      "[CV 4/5] END C=0.049369486949604593, gamma=0.014899847475658236, kernel=linear;, score=0.894 total time=   5.6s\n",
      "[CV 5/5] END C=0.049369486949604593, gamma=0.014899847475658236, kernel=linear;, score=0.892 total time=   5.5s\n",
      "[CV 1/5] END C=4.467752817973908, gamma=0.00861257919259488, kernel=linear;, score=0.888 total time=  17.2s\n",
      "[CV 2/5] END C=4.467752817973908, gamma=0.00861257919259488, kernel=linear;, score=0.898 total time=  17.0s\n"
     ]
    },
    {
     "ename": "KeyboardInterrupt",
     "evalue": "",
     "output_type": "error",
     "traceback": [
      "\u001b[0;31m---------------------------------------------------------------------------\u001b[0m",
      "\u001b[0;31mKeyboardInterrupt\u001b[0m                         Traceback (most recent call last)",
      "Cell \u001b[0;32mIn[25], line 3\u001b[0m\n\u001b[1;32m      1\u001b[0m \u001b[38;5;66;03m# Perform RandomizedSearchCV\u001b[39;00m\n\u001b[1;32m      2\u001b[0m random_search \u001b[38;5;241m=\u001b[39m RandomizedSearchCV(SVC(), param_distributions\u001b[38;5;241m=\u001b[39mparam_dist, n_iter\u001b[38;5;241m=\u001b[39m\u001b[38;5;241m20\u001b[39m, cv\u001b[38;5;241m=\u001b[39m\u001b[38;5;241m5\u001b[39m, scoring\u001b[38;5;241m=\u001b[39m\u001b[38;5;124m'\u001b[39m\u001b[38;5;124maccuracy\u001b[39m\u001b[38;5;124m'\u001b[39m, random_state\u001b[38;5;241m=\u001b[39m\u001b[38;5;241m42\u001b[39m, verbose\u001b[38;5;241m=\u001b[39m\u001b[38;5;241m3\u001b[39m)\n\u001b[0;32m----> 3\u001b[0m random_search\u001b[38;5;241m.\u001b[39mfit(X_train_scaled, y_train)\n\u001b[1;32m      5\u001b[0m \u001b[38;5;66;03m# Print the best parameters\u001b[39;00m\n\u001b[1;32m      6\u001b[0m \u001b[38;5;28mprint\u001b[39m(\u001b[38;5;124m\"\u001b[39m\u001b[38;5;124mBest Parameters: \u001b[39m\u001b[38;5;124m\"\u001b[39m, random_search\u001b[38;5;241m.\u001b[39mbest_params_)\n",
      "File \u001b[0;32m~/anaconda3/lib/python3.11/site-packages/sklearn/base.py:1389\u001b[0m, in \u001b[0;36m_fit_context.<locals>.decorator.<locals>.wrapper\u001b[0;34m(estimator, *args, **kwargs)\u001b[0m\n\u001b[1;32m   1382\u001b[0m     estimator\u001b[38;5;241m.\u001b[39m_validate_params()\n\u001b[1;32m   1384\u001b[0m \u001b[38;5;28;01mwith\u001b[39;00m config_context(\n\u001b[1;32m   1385\u001b[0m     skip_parameter_validation\u001b[38;5;241m=\u001b[39m(\n\u001b[1;32m   1386\u001b[0m         prefer_skip_nested_validation \u001b[38;5;129;01mor\u001b[39;00m global_skip_validation\n\u001b[1;32m   1387\u001b[0m     )\n\u001b[1;32m   1388\u001b[0m ):\n\u001b[0;32m-> 1389\u001b[0m     \u001b[38;5;28;01mreturn\u001b[39;00m fit_method(estimator, \u001b[38;5;241m*\u001b[39margs, \u001b[38;5;241m*\u001b[39m\u001b[38;5;241m*\u001b[39mkwargs)\n",
      "File \u001b[0;32m~/anaconda3/lib/python3.11/site-packages/sklearn/model_selection/_search.py:1024\u001b[0m, in \u001b[0;36mBaseSearchCV.fit\u001b[0;34m(self, X, y, **params)\u001b[0m\n\u001b[1;32m   1018\u001b[0m     results \u001b[38;5;241m=\u001b[39m \u001b[38;5;28mself\u001b[39m\u001b[38;5;241m.\u001b[39m_format_results(\n\u001b[1;32m   1019\u001b[0m         all_candidate_params, n_splits, all_out, all_more_results\n\u001b[1;32m   1020\u001b[0m     )\n\u001b[1;32m   1022\u001b[0m     \u001b[38;5;28;01mreturn\u001b[39;00m results\n\u001b[0;32m-> 1024\u001b[0m \u001b[38;5;28mself\u001b[39m\u001b[38;5;241m.\u001b[39m_run_search(evaluate_candidates)\n\u001b[1;32m   1026\u001b[0m \u001b[38;5;66;03m# multimetric is determined here because in the case of a callable\u001b[39;00m\n\u001b[1;32m   1027\u001b[0m \u001b[38;5;66;03m# self.scoring the return type is only known after calling\u001b[39;00m\n\u001b[1;32m   1028\u001b[0m first_test_score \u001b[38;5;241m=\u001b[39m all_out[\u001b[38;5;241m0\u001b[39m][\u001b[38;5;124m\"\u001b[39m\u001b[38;5;124mtest_scores\u001b[39m\u001b[38;5;124m\"\u001b[39m]\n",
      "File \u001b[0;32m~/anaconda3/lib/python3.11/site-packages/sklearn/model_selection/_search.py:1951\u001b[0m, in \u001b[0;36mRandomizedSearchCV._run_search\u001b[0;34m(self, evaluate_candidates)\u001b[0m\n\u001b[1;32m   1949\u001b[0m \u001b[38;5;28;01mdef\u001b[39;00m \u001b[38;5;21m_run_search\u001b[39m(\u001b[38;5;28mself\u001b[39m, evaluate_candidates):\n\u001b[1;32m   1950\u001b[0m \u001b[38;5;250m    \u001b[39m\u001b[38;5;124;03m\"\"\"Search n_iter candidates from param_distributions\"\"\"\u001b[39;00m\n\u001b[0;32m-> 1951\u001b[0m     evaluate_candidates(\n\u001b[1;32m   1952\u001b[0m         ParameterSampler(\n\u001b[1;32m   1953\u001b[0m             \u001b[38;5;28mself\u001b[39m\u001b[38;5;241m.\u001b[39mparam_distributions, \u001b[38;5;28mself\u001b[39m\u001b[38;5;241m.\u001b[39mn_iter, random_state\u001b[38;5;241m=\u001b[39m\u001b[38;5;28mself\u001b[39m\u001b[38;5;241m.\u001b[39mrandom_state\n\u001b[1;32m   1954\u001b[0m         )\n\u001b[1;32m   1955\u001b[0m     )\n",
      "File \u001b[0;32m~/anaconda3/lib/python3.11/site-packages/sklearn/model_selection/_search.py:970\u001b[0m, in \u001b[0;36mBaseSearchCV.fit.<locals>.evaluate_candidates\u001b[0;34m(candidate_params, cv, more_results)\u001b[0m\n\u001b[1;32m    962\u001b[0m \u001b[38;5;28;01mif\u001b[39;00m \u001b[38;5;28mself\u001b[39m\u001b[38;5;241m.\u001b[39mverbose \u001b[38;5;241m>\u001b[39m \u001b[38;5;241m0\u001b[39m:\n\u001b[1;32m    963\u001b[0m     \u001b[38;5;28mprint\u001b[39m(\n\u001b[1;32m    964\u001b[0m         \u001b[38;5;124m\"\u001b[39m\u001b[38;5;124mFitting \u001b[39m\u001b[38;5;132;01m{0}\u001b[39;00m\u001b[38;5;124m folds for each of \u001b[39m\u001b[38;5;132;01m{1}\u001b[39;00m\u001b[38;5;124m candidates,\u001b[39m\u001b[38;5;124m\"\u001b[39m\n\u001b[1;32m    965\u001b[0m         \u001b[38;5;124m\"\u001b[39m\u001b[38;5;124m totalling \u001b[39m\u001b[38;5;132;01m{2}\u001b[39;00m\u001b[38;5;124m fits\u001b[39m\u001b[38;5;124m\"\u001b[39m\u001b[38;5;241m.\u001b[39mformat(\n\u001b[1;32m    966\u001b[0m             n_splits, n_candidates, n_candidates \u001b[38;5;241m*\u001b[39m n_splits\n\u001b[1;32m    967\u001b[0m         )\n\u001b[1;32m    968\u001b[0m     )\n\u001b[0;32m--> 970\u001b[0m out \u001b[38;5;241m=\u001b[39m parallel(\n\u001b[1;32m    971\u001b[0m     delayed(_fit_and_score)(\n\u001b[1;32m    972\u001b[0m         clone(base_estimator),\n\u001b[1;32m    973\u001b[0m         X,\n\u001b[1;32m    974\u001b[0m         y,\n\u001b[1;32m    975\u001b[0m         train\u001b[38;5;241m=\u001b[39mtrain,\n\u001b[1;32m    976\u001b[0m         test\u001b[38;5;241m=\u001b[39mtest,\n\u001b[1;32m    977\u001b[0m         parameters\u001b[38;5;241m=\u001b[39mparameters,\n\u001b[1;32m    978\u001b[0m         split_progress\u001b[38;5;241m=\u001b[39m(split_idx, n_splits),\n\u001b[1;32m    979\u001b[0m         candidate_progress\u001b[38;5;241m=\u001b[39m(cand_idx, n_candidates),\n\u001b[1;32m    980\u001b[0m         \u001b[38;5;241m*\u001b[39m\u001b[38;5;241m*\u001b[39mfit_and_score_kwargs,\n\u001b[1;32m    981\u001b[0m     )\n\u001b[1;32m    982\u001b[0m     \u001b[38;5;28;01mfor\u001b[39;00m (cand_idx, parameters), (split_idx, (train, test)) \u001b[38;5;129;01min\u001b[39;00m product(\n\u001b[1;32m    983\u001b[0m         \u001b[38;5;28menumerate\u001b[39m(candidate_params),\n\u001b[1;32m    984\u001b[0m         \u001b[38;5;28menumerate\u001b[39m(cv\u001b[38;5;241m.\u001b[39msplit(X, y, \u001b[38;5;241m*\u001b[39m\u001b[38;5;241m*\u001b[39mrouted_params\u001b[38;5;241m.\u001b[39msplitter\u001b[38;5;241m.\u001b[39msplit)),\n\u001b[1;32m    985\u001b[0m     )\n\u001b[1;32m    986\u001b[0m )\n\u001b[1;32m    988\u001b[0m \u001b[38;5;28;01mif\u001b[39;00m \u001b[38;5;28mlen\u001b[39m(out) \u001b[38;5;241m<\u001b[39m \u001b[38;5;241m1\u001b[39m:\n\u001b[1;32m    989\u001b[0m     \u001b[38;5;28;01mraise\u001b[39;00m \u001b[38;5;167;01mValueError\u001b[39;00m(\n\u001b[1;32m    990\u001b[0m         \u001b[38;5;124m\"\u001b[39m\u001b[38;5;124mNo fits were performed. \u001b[39m\u001b[38;5;124m\"\u001b[39m\n\u001b[1;32m    991\u001b[0m         \u001b[38;5;124m\"\u001b[39m\u001b[38;5;124mWas the CV iterator empty? \u001b[39m\u001b[38;5;124m\"\u001b[39m\n\u001b[1;32m    992\u001b[0m         \u001b[38;5;124m\"\u001b[39m\u001b[38;5;124mWere there no candidates?\u001b[39m\u001b[38;5;124m\"\u001b[39m\n\u001b[1;32m    993\u001b[0m     )\n",
      "File \u001b[0;32m~/anaconda3/lib/python3.11/site-packages/sklearn/utils/parallel.py:77\u001b[0m, in \u001b[0;36mParallel.__call__\u001b[0;34m(self, iterable)\u001b[0m\n\u001b[1;32m     72\u001b[0m config \u001b[38;5;241m=\u001b[39m get_config()\n\u001b[1;32m     73\u001b[0m iterable_with_config \u001b[38;5;241m=\u001b[39m (\n\u001b[1;32m     74\u001b[0m     (_with_config(delayed_func, config), args, kwargs)\n\u001b[1;32m     75\u001b[0m     \u001b[38;5;28;01mfor\u001b[39;00m delayed_func, args, kwargs \u001b[38;5;129;01min\u001b[39;00m iterable\n\u001b[1;32m     76\u001b[0m )\n\u001b[0;32m---> 77\u001b[0m \u001b[38;5;28;01mreturn\u001b[39;00m \u001b[38;5;28msuper\u001b[39m()\u001b[38;5;241m.\u001b[39m\u001b[38;5;21m__call__\u001b[39m(iterable_with_config)\n",
      "File \u001b[0;32m~/anaconda3/lib/python3.11/site-packages/joblib/parallel.py:1918\u001b[0m, in \u001b[0;36mParallel.__call__\u001b[0;34m(self, iterable)\u001b[0m\n\u001b[1;32m   1916\u001b[0m     output \u001b[38;5;241m=\u001b[39m \u001b[38;5;28mself\u001b[39m\u001b[38;5;241m.\u001b[39m_get_sequential_output(iterable)\n\u001b[1;32m   1917\u001b[0m     \u001b[38;5;28mnext\u001b[39m(output)\n\u001b[0;32m-> 1918\u001b[0m     \u001b[38;5;28;01mreturn\u001b[39;00m output \u001b[38;5;28;01mif\u001b[39;00m \u001b[38;5;28mself\u001b[39m\u001b[38;5;241m.\u001b[39mreturn_generator \u001b[38;5;28;01melse\u001b[39;00m \u001b[38;5;28mlist\u001b[39m(output)\n\u001b[1;32m   1920\u001b[0m \u001b[38;5;66;03m# Let's create an ID that uniquely identifies the current call. If the\u001b[39;00m\n\u001b[1;32m   1921\u001b[0m \u001b[38;5;66;03m# call is interrupted early and that the same instance is immediately\u001b[39;00m\n\u001b[1;32m   1922\u001b[0m \u001b[38;5;66;03m# re-used, this id will be used to prevent workers that were\u001b[39;00m\n\u001b[1;32m   1923\u001b[0m \u001b[38;5;66;03m# concurrently finalizing a task from the previous call to run the\u001b[39;00m\n\u001b[1;32m   1924\u001b[0m \u001b[38;5;66;03m# callback.\u001b[39;00m\n\u001b[1;32m   1925\u001b[0m \u001b[38;5;28;01mwith\u001b[39;00m \u001b[38;5;28mself\u001b[39m\u001b[38;5;241m.\u001b[39m_lock:\n",
      "File \u001b[0;32m~/anaconda3/lib/python3.11/site-packages/joblib/parallel.py:1847\u001b[0m, in \u001b[0;36mParallel._get_sequential_output\u001b[0;34m(self, iterable)\u001b[0m\n\u001b[1;32m   1845\u001b[0m \u001b[38;5;28mself\u001b[39m\u001b[38;5;241m.\u001b[39mn_dispatched_batches \u001b[38;5;241m+\u001b[39m\u001b[38;5;241m=\u001b[39m \u001b[38;5;241m1\u001b[39m\n\u001b[1;32m   1846\u001b[0m \u001b[38;5;28mself\u001b[39m\u001b[38;5;241m.\u001b[39mn_dispatched_tasks \u001b[38;5;241m+\u001b[39m\u001b[38;5;241m=\u001b[39m \u001b[38;5;241m1\u001b[39m\n\u001b[0;32m-> 1847\u001b[0m res \u001b[38;5;241m=\u001b[39m func(\u001b[38;5;241m*\u001b[39margs, \u001b[38;5;241m*\u001b[39m\u001b[38;5;241m*\u001b[39mkwargs)\n\u001b[1;32m   1848\u001b[0m \u001b[38;5;28mself\u001b[39m\u001b[38;5;241m.\u001b[39mn_completed_tasks \u001b[38;5;241m+\u001b[39m\u001b[38;5;241m=\u001b[39m \u001b[38;5;241m1\u001b[39m\n\u001b[1;32m   1849\u001b[0m \u001b[38;5;28mself\u001b[39m\u001b[38;5;241m.\u001b[39mprint_progress()\n",
      "File \u001b[0;32m~/anaconda3/lib/python3.11/site-packages/sklearn/utils/parallel.py:139\u001b[0m, in \u001b[0;36m_FuncWrapper.__call__\u001b[0;34m(self, *args, **kwargs)\u001b[0m\n\u001b[1;32m    137\u001b[0m     config \u001b[38;5;241m=\u001b[39m {}\n\u001b[1;32m    138\u001b[0m \u001b[38;5;28;01mwith\u001b[39;00m config_context(\u001b[38;5;241m*\u001b[39m\u001b[38;5;241m*\u001b[39mconfig):\n\u001b[0;32m--> 139\u001b[0m     \u001b[38;5;28;01mreturn\u001b[39;00m \u001b[38;5;28mself\u001b[39m\u001b[38;5;241m.\u001b[39mfunction(\u001b[38;5;241m*\u001b[39margs, \u001b[38;5;241m*\u001b[39m\u001b[38;5;241m*\u001b[39mkwargs)\n",
      "File \u001b[0;32m~/anaconda3/lib/python3.11/site-packages/sklearn/model_selection/_validation.py:866\u001b[0m, in \u001b[0;36m_fit_and_score\u001b[0;34m(estimator, X, y, scorer, train, test, verbose, parameters, fit_params, score_params, return_train_score, return_parameters, return_n_test_samples, return_times, return_estimator, split_progress, candidate_progress, error_score)\u001b[0m\n\u001b[1;32m    864\u001b[0m         estimator\u001b[38;5;241m.\u001b[39mfit(X_train, \u001b[38;5;241m*\u001b[39m\u001b[38;5;241m*\u001b[39mfit_params)\n\u001b[1;32m    865\u001b[0m     \u001b[38;5;28;01melse\u001b[39;00m:\n\u001b[0;32m--> 866\u001b[0m         estimator\u001b[38;5;241m.\u001b[39mfit(X_train, y_train, \u001b[38;5;241m*\u001b[39m\u001b[38;5;241m*\u001b[39mfit_params)\n\u001b[1;32m    868\u001b[0m \u001b[38;5;28;01mexcept\u001b[39;00m \u001b[38;5;167;01mException\u001b[39;00m:\n\u001b[1;32m    869\u001b[0m     \u001b[38;5;66;03m# Note fit time as time until error\u001b[39;00m\n\u001b[1;32m    870\u001b[0m     fit_time \u001b[38;5;241m=\u001b[39m time\u001b[38;5;241m.\u001b[39mtime() \u001b[38;5;241m-\u001b[39m start_time\n",
      "File \u001b[0;32m~/anaconda3/lib/python3.11/site-packages/sklearn/base.py:1389\u001b[0m, in \u001b[0;36m_fit_context.<locals>.decorator.<locals>.wrapper\u001b[0;34m(estimator, *args, **kwargs)\u001b[0m\n\u001b[1;32m   1382\u001b[0m     estimator\u001b[38;5;241m.\u001b[39m_validate_params()\n\u001b[1;32m   1384\u001b[0m \u001b[38;5;28;01mwith\u001b[39;00m config_context(\n\u001b[1;32m   1385\u001b[0m     skip_parameter_validation\u001b[38;5;241m=\u001b[39m(\n\u001b[1;32m   1386\u001b[0m         prefer_skip_nested_validation \u001b[38;5;129;01mor\u001b[39;00m global_skip_validation\n\u001b[1;32m   1387\u001b[0m     )\n\u001b[1;32m   1388\u001b[0m ):\n\u001b[0;32m-> 1389\u001b[0m     \u001b[38;5;28;01mreturn\u001b[39;00m fit_method(estimator, \u001b[38;5;241m*\u001b[39margs, \u001b[38;5;241m*\u001b[39m\u001b[38;5;241m*\u001b[39mkwargs)\n",
      "File \u001b[0;32m~/anaconda3/lib/python3.11/site-packages/sklearn/svm/_base.py:258\u001b[0m, in \u001b[0;36mBaseLibSVM.fit\u001b[0;34m(self, X, y, sample_weight)\u001b[0m\n\u001b[1;32m    255\u001b[0m     \u001b[38;5;28mprint\u001b[39m(\u001b[38;5;124m\"\u001b[39m\u001b[38;5;124m[LibSVM]\u001b[39m\u001b[38;5;124m\"\u001b[39m, end\u001b[38;5;241m=\u001b[39m\u001b[38;5;124m\"\u001b[39m\u001b[38;5;124m\"\u001b[39m)\n\u001b[1;32m    257\u001b[0m seed \u001b[38;5;241m=\u001b[39m rnd\u001b[38;5;241m.\u001b[39mrandint(np\u001b[38;5;241m.\u001b[39miinfo(\u001b[38;5;124m\"\u001b[39m\u001b[38;5;124mi\u001b[39m\u001b[38;5;124m\"\u001b[39m)\u001b[38;5;241m.\u001b[39mmax)\n\u001b[0;32m--> 258\u001b[0m fit(X, y, sample_weight, solver_type, kernel, random_seed\u001b[38;5;241m=\u001b[39mseed)\n\u001b[1;32m    259\u001b[0m \u001b[38;5;66;03m# see comment on the other call to np.iinfo in this file\u001b[39;00m\n\u001b[1;32m    261\u001b[0m \u001b[38;5;28mself\u001b[39m\u001b[38;5;241m.\u001b[39mshape_fit_ \u001b[38;5;241m=\u001b[39m X\u001b[38;5;241m.\u001b[39mshape \u001b[38;5;28;01mif\u001b[39;00m \u001b[38;5;28mhasattr\u001b[39m(X, \u001b[38;5;124m\"\u001b[39m\u001b[38;5;124mshape\u001b[39m\u001b[38;5;124m\"\u001b[39m) \u001b[38;5;28;01melse\u001b[39;00m (n_samples,)\n",
      "File \u001b[0;32m~/anaconda3/lib/python3.11/site-packages/sklearn/svm/_base.py:336\u001b[0m, in \u001b[0;36mBaseLibSVM._dense_fit\u001b[0;34m(self, X, y, sample_weight, solver_type, kernel, random_seed)\u001b[0m\n\u001b[1;32m    322\u001b[0m libsvm\u001b[38;5;241m.\u001b[39mset_verbosity_wrap(\u001b[38;5;28mself\u001b[39m\u001b[38;5;241m.\u001b[39mverbose)\n\u001b[1;32m    324\u001b[0m \u001b[38;5;66;03m# we don't pass **self.get_params() to allow subclasses to\u001b[39;00m\n\u001b[1;32m    325\u001b[0m \u001b[38;5;66;03m# add other parameters to __init__\u001b[39;00m\n\u001b[1;32m    326\u001b[0m (\n\u001b[1;32m    327\u001b[0m     \u001b[38;5;28mself\u001b[39m\u001b[38;5;241m.\u001b[39msupport_,\n\u001b[1;32m    328\u001b[0m     \u001b[38;5;28mself\u001b[39m\u001b[38;5;241m.\u001b[39msupport_vectors_,\n\u001b[1;32m    329\u001b[0m     \u001b[38;5;28mself\u001b[39m\u001b[38;5;241m.\u001b[39m_n_support,\n\u001b[1;32m    330\u001b[0m     \u001b[38;5;28mself\u001b[39m\u001b[38;5;241m.\u001b[39mdual_coef_,\n\u001b[1;32m    331\u001b[0m     \u001b[38;5;28mself\u001b[39m\u001b[38;5;241m.\u001b[39mintercept_,\n\u001b[1;32m    332\u001b[0m     \u001b[38;5;28mself\u001b[39m\u001b[38;5;241m.\u001b[39m_probA,\n\u001b[1;32m    333\u001b[0m     \u001b[38;5;28mself\u001b[39m\u001b[38;5;241m.\u001b[39m_probB,\n\u001b[1;32m    334\u001b[0m     \u001b[38;5;28mself\u001b[39m\u001b[38;5;241m.\u001b[39mfit_status_,\n\u001b[1;32m    335\u001b[0m     \u001b[38;5;28mself\u001b[39m\u001b[38;5;241m.\u001b[39m_num_iter,\n\u001b[0;32m--> 336\u001b[0m ) \u001b[38;5;241m=\u001b[39m libsvm\u001b[38;5;241m.\u001b[39mfit(\n\u001b[1;32m    337\u001b[0m     X,\n\u001b[1;32m    338\u001b[0m     y,\n\u001b[1;32m    339\u001b[0m     svm_type\u001b[38;5;241m=\u001b[39msolver_type,\n\u001b[1;32m    340\u001b[0m     sample_weight\u001b[38;5;241m=\u001b[39msample_weight,\n\u001b[1;32m    341\u001b[0m     class_weight\u001b[38;5;241m=\u001b[39m\u001b[38;5;28mgetattr\u001b[39m(\u001b[38;5;28mself\u001b[39m, \u001b[38;5;124m\"\u001b[39m\u001b[38;5;124mclass_weight_\u001b[39m\u001b[38;5;124m\"\u001b[39m, np\u001b[38;5;241m.\u001b[39mempty(\u001b[38;5;241m0\u001b[39m)),\n\u001b[1;32m    342\u001b[0m     kernel\u001b[38;5;241m=\u001b[39mkernel,\n\u001b[1;32m    343\u001b[0m     C\u001b[38;5;241m=\u001b[39m\u001b[38;5;28mself\u001b[39m\u001b[38;5;241m.\u001b[39mC,\n\u001b[1;32m    344\u001b[0m     nu\u001b[38;5;241m=\u001b[39m\u001b[38;5;28mself\u001b[39m\u001b[38;5;241m.\u001b[39mnu,\n\u001b[1;32m    345\u001b[0m     probability\u001b[38;5;241m=\u001b[39m\u001b[38;5;28mself\u001b[39m\u001b[38;5;241m.\u001b[39mprobability,\n\u001b[1;32m    346\u001b[0m     degree\u001b[38;5;241m=\u001b[39m\u001b[38;5;28mself\u001b[39m\u001b[38;5;241m.\u001b[39mdegree,\n\u001b[1;32m    347\u001b[0m     shrinking\u001b[38;5;241m=\u001b[39m\u001b[38;5;28mself\u001b[39m\u001b[38;5;241m.\u001b[39mshrinking,\n\u001b[1;32m    348\u001b[0m     tol\u001b[38;5;241m=\u001b[39m\u001b[38;5;28mself\u001b[39m\u001b[38;5;241m.\u001b[39mtol,\n\u001b[1;32m    349\u001b[0m     cache_size\u001b[38;5;241m=\u001b[39m\u001b[38;5;28mself\u001b[39m\u001b[38;5;241m.\u001b[39mcache_size,\n\u001b[1;32m    350\u001b[0m     coef0\u001b[38;5;241m=\u001b[39m\u001b[38;5;28mself\u001b[39m\u001b[38;5;241m.\u001b[39mcoef0,\n\u001b[1;32m    351\u001b[0m     gamma\u001b[38;5;241m=\u001b[39m\u001b[38;5;28mself\u001b[39m\u001b[38;5;241m.\u001b[39m_gamma,\n\u001b[1;32m    352\u001b[0m     epsilon\u001b[38;5;241m=\u001b[39m\u001b[38;5;28mself\u001b[39m\u001b[38;5;241m.\u001b[39mepsilon,\n\u001b[1;32m    353\u001b[0m     max_iter\u001b[38;5;241m=\u001b[39m\u001b[38;5;28mself\u001b[39m\u001b[38;5;241m.\u001b[39mmax_iter,\n\u001b[1;32m    354\u001b[0m     random_seed\u001b[38;5;241m=\u001b[39mrandom_seed,\n\u001b[1;32m    355\u001b[0m )\n\u001b[1;32m    357\u001b[0m \u001b[38;5;28mself\u001b[39m\u001b[38;5;241m.\u001b[39m_warn_from_fit_status()\n",
      "\u001b[0;31mKeyboardInterrupt\u001b[0m: "
     ]
    }
   ],
   "source": [
    "# Perform RandomizedSearchCV\n",
    "# random_search = RandomizedSearchCV(SVC(), param_distributions=param_dist, n_iter=20, cv=5, scoring='accuracy', random_state=42, verbose=3)\n",
    "# random_search.fit(X_train_scaled, y_train)\n",
    "\n",
    "# # Print the best parameters\n",
    "# print(\"Best Parameters: \", random_search.best_params_)\n",
    "\n",
    "# Perform GridSearchCV to find the best parameters\n",
    "#grid_search = GridSearchCV(SVC(), param_grid, refit=True, verbose=3, cv=5, scoring='accuracy')\n",
    "#grid_search.fit(X_train_scaled, y_train)\n",
    "# Print the best parameters found by GridSearchCV\n",
    "#print(\"Best Parameters: \", grid_search.best_params_)"
   ]
  },
  {
   "cell_type": "code",
   "execution_count": null,
   "metadata": {},
   "outputs": [
    {
     "name": "stdout",
     "output_type": "stream",
     "text": [
      "Training Accuracy:  0.8400833333333333\n",
      "Test Accuracy:  0.8355555555555556\n"
     ]
    },
    {
     "name": "stderr",
     "output_type": "stream",
     "text": [
      "/Users/vanyam/anaconda3/lib/python3.11/site-packages/sklearn/utils/validation.py:2739: UserWarning: X does not have valid feature names, but DecisionTreeClassifier was fitted with feature names\n",
      "  warnings.warn(\n",
      "/Users/vanyam/anaconda3/lib/python3.11/site-packages/sklearn/utils/validation.py:2739: UserWarning: X does not have valid feature names, but DecisionTreeClassifier was fitted with feature names\n",
      "  warnings.warn(\n"
     ]
    }
   ],
   "source": [
    "# Use the best model to make predictions\n",
    "best_svm_model = grid_search.best_estimator_\n",
    "y_pred = best_svm_model.predict(X_test_scaled)\n",
    "\n",
    "# Evaluate the model\n",
    "training_accuracy = best_svm_model.score(X_train_scaled, y_train)\n",
    "test_accuracy = accuracy_score(y_test, y_pred)\n",
    "\n",
    "print(\"Training Accuracy: \", training_accuracy)\n",
    "print(\"Test Accuracy: \", test_accuracy)"
   ]
  },
  {
   "cell_type": "code",
   "execution_count": null,
   "metadata": {},
   "outputs": [
    {
     "name": "stdout",
     "output_type": "stream",
     "text": [
      "Confusion Matrix:\n",
      "[[6328  662]\n",
      " [ 818 1192]]\n"
     ]
    }
   ],
   "source": [
    "# Confusion Matrix\n",
    "conf_matrix = confusion_matrix(y_test, y_pred)\n",
    "print(\"Confusion Matrix:\")\n",
    "print(conf_matrix)"
   ]
  },
  {
   "cell_type": "code",
   "execution_count": null,
   "metadata": {},
   "outputs": [
    {
     "name": "stdout",
     "output_type": "stream",
     "text": [
      "Classification Report:\n",
      "              precision    recall  f1-score   support\n",
      "\n",
      "           0       0.89      0.91      0.90      6990\n",
      "           1       0.64      0.59      0.62      2010\n",
      "\n",
      "    accuracy                           0.84      9000\n",
      "   macro avg       0.76      0.75      0.76      9000\n",
      "weighted avg       0.83      0.84      0.83      9000\n",
      "\n"
     ]
    }
   ],
   "source": [
    "# # Classification Report\n",
    "# class_report = classification_report(y_test, y_pred)\n",
    "# print(\"Classification Report:\")\n",
    "# print(class_report)"
   ]
  },
  {
   "cell_type": "code",
   "execution_count": null,
   "metadata": {},
   "outputs": [
    {
     "data": {
      "image/png": "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",
      "text/plain": [
       "<Figure size 800x600 with 2 Axes>"
      ]
     },
     "metadata": {},
     "output_type": "display_data"
    }
   ],
   "source": [
    "# Plot the confusion matrix\n",
    "plt.figure(figsize=(8, 6))\n",
    "sns.heatmap(conf_matrix, annot=True, fmt='d', cmap='Blues', xticklabels=['No Loan', 'Loan'], yticklabels=['No Loan', 'Loan'])\n",
    "plt.title('Confusion Matrix')\n",
    "plt.xlabel('Predicted')\n",
    "plt.ylabel('Actual')\n",
    "plt.show()"
   ]
  }
 ],
>>>>>>> 4422399835bd53d5968acdb58a76796c24de6769
 "metadata": {
<<<<<<< HEAD
=======
  "kernelspec": {
   "display_name": "Python 3",
   "language": "python",
   "name": "python3"
  },
>>>>>>> 4422399835bd53d5968acdb58a76796c24de6769
  "language_info": {
<<<<<<< HEAD
   "name": "python"
=======
   "codemirror_mode": {
    "name": "ipython",
    "version": 3
   },
   "file_extension": ".py",
   "mimetype": "text/x-python",
   "name": "python",
   "nbconvert_exporter": "python",
   "pygments_lexer": "ipython3",
   "version": "3.12.1"
>>>>>>> 4422399835bd53d5968acdb58a76796c24de6769
  }
 },
 "nbformat": 4,
 "nbformat_minor": 2
}
